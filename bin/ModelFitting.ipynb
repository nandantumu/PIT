{
 "cells": [
  {
   "cell_type": "code",
   "execution_count": 1,
   "id": "f6981fb9-6c17-42ec-bfd5-f21fc110ce65",
   "metadata": {},
   "outputs": [
    {
     "name": "stdout",
     "output_type": "stream",
     "text": [
      "cpu\n"
     ]
    }
   ],
   "source": [
    "# %%\n",
    "import torch\n",
    "from torch import nn\n",
    "import numpy as np\n",
    "\n",
    "from pit.dynamics.dynamic_bicycle import DynamicBicycle\n",
    "from pit.integration import Euler, RK4\n",
    "\n",
    "import matplotlib.pyplot as plt\n",
    "import json\n",
    "\n",
    "DEVICE = \"cuda\" if torch.cuda.is_available() else \"cpu\"\n",
    "\n",
    "print(DEVICE)\n",
    "\n",
    "# input parameters\n",
    "map_name = 'SaoPaulo'  # Nuerburgring,  SaoPaulo\n",
    "lap_number = 2  # 1 - faster, 2 - slower\n",
    "friction = '1-1'  # '1-1' - mu_x = 1.1, '0-7' - mu_x = 0.7\n",
    "\n",
    "# visualization\n",
    "with open('dataset_%s_%s_lap%s.json' % (friction, map_name, lap_number), 'r') as f:\n",
    "    data = json.load(f)"
   ]
  },
  {
   "cell_type": "code",
   "execution_count": 2,
   "id": "08533b7e-6dd8-4f66-a0ee-7f52901d3263",
   "metadata": {},
   "outputs": [],
   "source": [
    "# %%\n",
    "timestep = 0.01\n",
    "assert(data['time'][1] - data['time'][0] - timestep < 0.001)\n",
    "x = torch.tensor(data['x'])\n",
    "y = torch.tensor(data['y'])\n",
    "yaw = torch.tensor(data['yaw'])\n",
    "vx = torch.tensor(data['vx'])\n",
    "vy = torch.tensor(data['vy'])\n",
    "yaw_rate = torch.tensor(data['yaw_rate'])\n",
    "steer_angle = torch.tensor(data['steer_angle'])\n",
    "drive_force = torch.tensor(data['drive_force'])\n",
    "steer_speed = torch.tensor(data['steer_speed'])"
   ]
  },
  {
   "cell_type": "code",
   "execution_count": 3,
   "id": "f1bff06e-e600-40de-90b0-90375d506c49",
   "metadata": {},
   "outputs": [
    {
     "name": "stdout",
     "output_type": "stream",
     "text": [
      "Inputs size: torch.Size([22486, 2]) | States size: torch.Size([22486, 7])\n"
     ]
    }
   ],
   "source": [
    "# %%\n",
    "initial_state = torch.tensor([x[0],y[0],yaw[0],vx[0],vy[0],yaw_rate[0],steer_angle[0]]).to(DEVICE)\n",
    "control_inputs = torch.vstack([drive_force, steer_speed]).T\n",
    "control_inputs = control_inputs.contiguous().to(DEVICE)\n",
    "output_states = torch.vstack([x, y, yaw, vx, vy, yaw_rate, steer_angle]).T\n",
    "target_states = output_states[1:]\n",
    "target_states = target_states.contiguous().to(DEVICE)\n",
    "\n",
    "print(f\"Inputs size: {control_inputs.shape} | States size: {target_states.shape}\")"
   ]
  },
  {
   "cell_type": "code",
   "execution_count": 5,
   "id": "08140a44-3ba2-4cf4-9cee-5b4f19f6df09",
   "metadata": {},
   "outputs": [
    {
     "name": "stdout",
     "output_type": "stream",
     "text": [
      "Batched Inputs size: torch.Size([2243, 50, 2]) | Batched States size: torch.Size([2243, 50, 7])\n"
     ]
    }
   ],
   "source": [
    "# %%\n",
    "STEP_SIZE=10\n",
    "TICKS_IN_STEP=50\n",
    "state_dims = initial_state.shape[0]\n",
    "input_dims = control_inputs.shape[-1]\n",
    "total_steps = (control_inputs.shape[0]-TICKS_IN_STEP-1)//STEP_SIZE\n",
    "\n",
    "batched_initial_states = torch.zeros((total_steps, state_dims), device=DEVICE)\n",
    "batched_control_inputs = torch.zeros((total_steps, TICKS_IN_STEP, input_dims), device=DEVICE)\n",
    "batched_target_states = torch.zeros((total_steps, TICKS_IN_STEP, state_dims), device=DEVICE)\n",
    "\n",
    "for step in range(total_steps):\n",
    "    batched_initial_states[step] = output_states[step*STEP_SIZE]\n",
    "    batched_control_inputs[step] = control_inputs[step*STEP_SIZE:(step*STEP_SIZE)+TICKS_IN_STEP]\n",
    "    batched_target_states[step] = output_states[(step*STEP_SIZE)+1:(step*STEP_SIZE)+TICKS_IN_STEP+1]\n",
    "\n",
    "print(f\"Batched Inputs size: {batched_control_inputs.shape} | Batched States size: {batched_target_states.shape}\")"
   ]
  },
  {
   "cell_type": "code",
   "execution_count": 6,
   "id": "5ab227b2-be41-45ea-a9eb-b6ee8255028f",
   "metadata": {},
   "outputs": [],
   "source": [
    "# %%\n",
    "dataset = torch.utils.data.TensorDataset(batched_initial_states, batched_control_inputs, batched_target_states)\n",
    "dataloader = torch.utils.data.DataLoader(dataset, batch_size=1024, shuffle=True)"
   ]
  },
  {
   "cell_type": "code",
   "execution_count": 15,
   "id": "23127af9-b070-460f-aae6-1b81dbc07756",
   "metadata": {},
   "outputs": [
    {
     "data": {
      "text/plain": [
       "RK4(\n",
       "  (dynamics): DynamicBicycle()\n",
       ")"
      ]
     },
     "execution_count": 15,
     "metadata": {},
     "output_type": "execute_result"
    }
   ],
   "source": [
    "# %%\n",
    "params = {\n",
    "    # axes distances\n",
    "    'lf': 0.88392,  # distance from spring mass center of gravity to front axle [m]  LENA\n",
    "    'lr': 1.50876,  # distance from spring mass center of gravity to rear axle [m]  LENB\n",
    "\n",
    "    # moments of inertia of sprung mass\n",
    "    # masses\n",
    "    'Iz': 1538.853371,  # moment of inertia for sprung mass in yaw [kg m^2]  IZZ\n",
    "    'mass': 1225.887,  # vehicle mass [kg]  MASS\n",
    "\n",
    "    # Pacejka tire force parameters\n",
    "    'Df': 3709.08227,  # [rad/m]  DF\n",
    "    'Cf': 1.3507,\n",
    "    'Bf': 16.2216,\n",
    "    'Dr': 3709.08227,  # [rad/m]  DR\n",
    "    'Cr': 1.3507,\n",
    "    'Br': 16.2216,\n",
    "    'Cm': 0.3777,\n",
    "    'Cr0': 2.1469,\n",
    "    'Cr2': 0.0,\n",
    "}\n",
    "params.update({\n",
    "    \"lf\" : 0.8839200139045715,\n",
    "\t\"lr\" : 1.5087599754333496,\n",
    "\t\"Iz\" : 1538.8533935546875,\n",
    "\t\"mass\" : 1225.8848876953125,\n",
    "\t\"Df\" : 3709.082275390625,\n",
    "\t\"Cf\" : 3.462254762649536,\n",
    "\t\"Bf\" : 16.504972457885742,\n",
    "\t\"Dr\" : 3709.082275390625,\n",
    "\t\"Cr\" : 2.0830910205841064,\n",
    "\t\"Br\" : 16.302648544311523,\n",
    "\t\"Cm\" : 0.9561037421226501,\n",
    "\t\"Cr0\" : 2.1423134803771973,\n",
    "\t\"Cr2\" : -0.010570406913757324,\n",
    "})\n",
    "dynamics = DynamicBicycle(**params)\n",
    "#dynamics = torch.load(\"fitted_model.pt\")\n",
    "# <---- FIX PHYSICAL PARAMS     ---->\n",
    "dynamics.lf.requires_grad = False\n",
    "dynamics.lr.requires_grad = False\n",
    "dynamics.mass.requires_grad = True\n",
    "dynamics.Iz.requires_grad = True\n",
    "dynamics.Df.requires_grad = True\n",
    "dynamics.Cf.requires_grad = True\n",
    "dynamics.Bf.requires_grad = True\n",
    "dynamics.Dr.requires_grad = True\n",
    "dynamics.Cr.requires_grad = True\n",
    "dynamics.Br.requires_grad = True\n",
    "dynamics.Cm.requires_grad = True\n",
    "dynamics.Cr0.requires_grad = True\n",
    "dynamics.Cr2.requires_grad = True\n",
    "# <----                         ---->\n",
    "euler_integrator = Euler(dynamics, timestep=timestep)\n",
    "euler_integrator.to(DEVICE)\n",
    "rk4_integrator = RK4(dynamics=dynamics, timestep=timestep)\n",
    "rk4_integrator.to(DEVICE)\n"
   ]
  },
  {
   "cell_type": "code",
   "execution_count": 16,
   "id": "0b38948a-c342-4f63-9bef-441340e44d13",
   "metadata": {},
   "outputs": [],
   "source": [
    "with torch.no_grad():\n",
    "    euler_output_states = euler_integrator(initial_state, control_inputs)\n"
   ]
  },
  {
   "cell_type": "code",
   "execution_count": 17,
   "id": "a5de72b9-6790-4036-8698-9c0516024cd2",
   "metadata": {},
   "outputs": [
    {
     "data": {
      "text/plain": [
       "<matplotlib.legend.Legend at 0x11692f050>"
      ]
     },
     "execution_count": 17,
     "metadata": {},
     "output_type": "execute_result"
    },
    {
     "data": {
      "image/png": "[encoded data removed]",
      "text/plain": [
       "<Figure size 1000x1000 with 1 Axes>"
      ]
     },
     "metadata": {},
     "output_type": "display_data"
    }
   ],
   "source": [
    "# %%\n",
    "fig, ax = plt.subplots(1, 1, figsize=(10,10))\n",
    "LEN=20000\n",
    "ax.plot(target_states[:LEN, 0].cpu().numpy(), target_states[:LEN, 1].cpu().numpy(), label=\"Target\")\n",
    "ax.plot(euler_output_states[:LEN, 0].detach().cpu().numpy(), euler_output_states[:LEN, 1].detach().cpu().numpy(), label=\"Euler Prediction\")\n",
    "#ax.plot(rk4_output_states[:LEN, 0].detach().cpu().numpy(), rk4_output_states[:LEN, 1].detach().cpu().numpy(), label=\"RK4 Prediction\")\n",
    "ax.set_aspect(1.0)\n",
    "ax.legend()"
   ]
  },
  {
   "cell_type": "code",
   "execution_count": 18,
   "id": "359d3e70-0bca-4c7b-92d3-e90f0122dde2",
   "metadata": {
    "tags": []
   },
   "outputs": [
    {
     "name": "stderr",
     "output_type": "stream",
     "text": [
      "/Users/leejmilburn/miniconda3/lib/python3.11/site-packages/tqdm/auto.py:21: TqdmWarning: IProgress not found. Please update jupyter and ipywidgets. See https://ipywidgets.readthedocs.io/en/stable/user_install.html\n",
      "  from .autonotebook import tqdm as notebook_tqdm\n"
     ]
    },
    {
     "name": "stdout",
     "output_type": "stream",
     "text": [
      "Initialized | Validation Loss: 122.8093032836914 | LR: 1\n"
     ]
    },
    {
     "name": "stderr",
     "output_type": "stream",
     "text": [
      "  1%|          | 1/100 [00:01<01:46,  1.08s/it]"
     ]
    },
    {
     "name": "stdout",
     "output_type": "stream",
     "text": [
      "Epoch: 0 | Training Loss: 0.03143247216939926 | Validation Loss: 0.028020717203617096 | LR: 1\n"
     ]
    },
    {
     "name": "stderr",
     "output_type": "stream",
     "text": [
      "  2%|▏         | 2/100 [00:02<01:42,  1.04s/it]"
     ]
    },
    {
     "name": "stdout",
     "output_type": "stream",
     "text": [
      "Epoch: 1 | Training Loss: 0.032954007387161255 | Validation Loss: 0.026493992656469345 | LR: 1\n"
     ]
    },
    {
     "name": "stderr",
     "output_type": "stream",
     "text": [
      "  3%|▎         | 3/100 [00:03<01:42,  1.05s/it]"
     ]
    },
    {
     "name": "stdout",
     "output_type": "stream",
     "text": [
      "Epoch: 2 | Training Loss: 0.017959417775273323 | Validation Loss: 0.024683350697159767 | LR: 1\n"
     ]
    },
    {
     "name": "stderr",
     "output_type": "stream",
     "text": [
      "  4%|▍         | 4/100 [00:04<01:46,  1.11s/it]"
     ]
    },
    {
     "name": "stdout",
     "output_type": "stream",
     "text": [
      "Epoch: 3 | Training Loss: 0.017042404040694237 | Validation Loss: 0.022790394723415375 | LR: 1\n"
     ]
    },
    {
     "name": "stderr",
     "output_type": "stream",
     "text": [
      "  5%|▌         | 5/100 [00:05<01:43,  1.09s/it]"
     ]
    },
    {
     "name": "stdout",
     "output_type": "stream",
     "text": [
      "Epoch: 4 | Training Loss: 0.019169535487890244 | Validation Loss: 0.02092263661324978 | LR: 1\n"
     ]
    },
    {
     "name": "stderr",
     "output_type": "stream",
     "text": [
      "  6%|▌         | 6/100 [00:06<01:37,  1.04s/it]"
     ]
    },
    {
     "name": "stdout",
     "output_type": "stream",
     "text": [
      "Epoch: 5 | Training Loss: 0.021787935867905617 | Validation Loss: 0.019904840737581253 | LR: 1\n"
     ]
    },
    {
     "name": "stderr",
     "output_type": "stream",
     "text": [
      "  7%|▋         | 7/100 [00:07<01:33,  1.01s/it]"
     ]
    },
    {
     "name": "stdout",
     "output_type": "stream",
     "text": [
      "Epoch: 6 | Training Loss: 0.013712461106479168 | Validation Loss: 0.019377440214157104 | LR: 1\n"
     ]
    },
    {
     "name": "stderr",
     "output_type": "stream",
     "text": [
      "  8%|▊         | 8/100 [00:08<01:35,  1.04s/it]"
     ]
    },
    {
     "name": "stdout",
     "output_type": "stream",
     "text": [
      "Epoch: 7 | Training Loss: 0.014524787664413452 | Validation Loss: 0.018490608781576157 | LR: 1\n"
     ]
    },
    {
     "name": "stderr",
     "output_type": "stream",
     "text": [
      "  9%|▉         | 9/100 [00:09<01:31,  1.00s/it]"
     ]
    },
    {
     "name": "stdout",
     "output_type": "stream",
     "text": [
      "Epoch: 8 | Training Loss: 0.017603758722543716 | Validation Loss: 0.01806526817381382 | LR: 1\n"
     ]
    },
    {
     "name": "stderr",
     "output_type": "stream",
     "text": [
      " 10%|█         | 10/100 [00:10<01:28,  1.02it/s]"
     ]
    },
    {
     "name": "stdout",
     "output_type": "stream",
     "text": [
      "Epoch: 9 | Training Loss: 0.012983938679099083 | Validation Loss: 0.01757146418094635 | LR: 1\n"
     ]
    },
    {
     "name": "stderr",
     "output_type": "stream",
     "text": [
      " 11%|█         | 11/100 [00:11<01:26,  1.03it/s]"
     ]
    },
    {
     "name": "stdout",
     "output_type": "stream",
     "text": [
      "Epoch: 10 | Training Loss: 0.017154652625322342 | Validation Loss: 0.017146844416856766 | LR: 1\n"
     ]
    },
    {
     "name": "stderr",
     "output_type": "stream",
     "text": [
      " 12%|█▏        | 12/100 [00:12<01:24,  1.04it/s]"
     ]
    },
    {
     "name": "stdout",
     "output_type": "stream",
     "text": [
      "Epoch: 11 | Training Loss: 0.026873113587498665 | Validation Loss: 0.01682332344353199 | LR: 1\n"
     ]
    },
    {
     "name": "stderr",
     "output_type": "stream",
     "text": [
      " 13%|█▎        | 13/100 [00:13<01:33,  1.08s/it]"
     ]
    },
    {
     "name": "stdout",
     "output_type": "stream",
     "text": [
      "Epoch: 12 | Training Loss: 0.014725569635629654 | Validation Loss: 0.01652471534907818 | LR: 1\n"
     ]
    },
    {
     "name": "stderr",
     "output_type": "stream",
     "text": [
      " 14%|█▍        | 14/100 [00:15<01:52,  1.31s/it]"
     ]
    },
    {
     "name": "stdout",
     "output_type": "stream",
     "text": [
      "Epoch: 13 | Training Loss: 0.014778894372284412 | Validation Loss: 0.016245588660240173 | LR: 1\n"
     ]
    },
    {
     "name": "stderr",
     "output_type": "stream",
     "text": [
      " 15%|█▌        | 15/100 [00:16<01:45,  1.24s/it]"
     ]
    },
    {
     "name": "stdout",
     "output_type": "stream",
     "text": [
      "Epoch: 14 | Training Loss: 0.013082865625619888 | Validation Loss: 0.015989771112799644 | LR: 1\n"
     ]
    },
    {
     "name": "stderr",
     "output_type": "stream",
     "text": [
      " 16%|█▌        | 16/100 [00:17<01:51,  1.33s/it]"
     ]
    },
    {
     "name": "stdout",
     "output_type": "stream",
     "text": [
      "Epoch: 15 | Training Loss: 0.011229127645492554 | Validation Loss: 0.015756044536828995 | LR: 1\n"
     ]
    },
    {
     "name": "stderr",
     "output_type": "stream",
     "text": [
      " 17%|█▋        | 17/100 [00:18<01:41,  1.23s/it]"
     ]
    },
    {
     "name": "stdout",
     "output_type": "stream",
     "text": [
      "Epoch: 16 | Training Loss: 0.016391398385167122 | Validation Loss: 0.015533470548689365 | LR: 1\n"
     ]
    },
    {
     "name": "stderr",
     "output_type": "stream",
     "text": [
      " 18%|█▊        | 18/100 [00:19<01:34,  1.15s/it]"
     ]
    },
    {
     "name": "stdout",
     "output_type": "stream",
     "text": [
      "Epoch: 17 | Training Loss: 0.014304929412901402 | Validation Loss: 0.015324248000979424 | LR: 1\n"
     ]
    },
    {
     "name": "stderr",
     "output_type": "stream",
     "text": [
      " 19%|█▉        | 19/100 [00:20<01:28,  1.10s/it]"
     ]
    },
    {
     "name": "stdout",
     "output_type": "stream",
     "text": [
      "Epoch: 18 | Training Loss: 0.00753052206709981 | Validation Loss: 0.015130741521716118 | LR: 1\n"
     ]
    },
    {
     "name": "stderr",
     "output_type": "stream",
     "text": [
      " 20%|██        | 20/100 [00:21<01:25,  1.06s/it]"
     ]
    },
    {
     "name": "stdout",
     "output_type": "stream",
     "text": [
      "Epoch: 19 | Training Loss: 0.01747008040547371 | Validation Loss: 0.014948570169508457 | LR: 1\n"
     ]
    },
    {
     "name": "stderr",
     "output_type": "stream",
     "text": [
      " 21%|██        | 21/100 [00:22<01:20,  1.02s/it]"
     ]
    },
    {
     "name": "stdout",
     "output_type": "stream",
     "text": [
      "Epoch: 20 | Training Loss: 0.010166577063500881 | Validation Loss: 0.014774592593312263 | LR: 1\n"
     ]
    },
    {
     "name": "stderr",
     "output_type": "stream",
     "text": [
      " 22%|██▏       | 22/100 [00:23<01:20,  1.04s/it]"
     ]
    },
    {
     "name": "stdout",
     "output_type": "stream",
     "text": [
      "Epoch: 21 | Training Loss: 0.008319658227264881 | Validation Loss: 0.014611403457820415 | LR: 1\n"
     ]
    },
    {
     "name": "stderr",
     "output_type": "stream",
     "text": [
      " 23%|██▎       | 23/100 [00:24<01:17,  1.01s/it]"
     ]
    },
    {
     "name": "stdout",
     "output_type": "stream",
     "text": [
      "Epoch: 22 | Training Loss: 0.012047377415001392 | Validation Loss: 0.014454490505158901 | LR: 1\n"
     ]
    },
    {
     "name": "stderr",
     "output_type": "stream",
     "text": [
      " 24%|██▍       | 24/100 [00:25<01:14,  1.01it/s]"
     ]
    },
    {
     "name": "stdout",
     "output_type": "stream",
     "text": [
      "Epoch: 23 | Training Loss: 0.02797422744333744 | Validation Loss: 0.014305317774415016 | LR: 1\n"
     ]
    },
    {
     "name": "stderr",
     "output_type": "stream",
     "text": [
      " 25%|██▌       | 25/100 [00:26<01:12,  1.03it/s]"
     ]
    },
    {
     "name": "stdout",
     "output_type": "stream",
     "text": [
      "Epoch: 24 | Training Loss: 0.01215005200356245 | Validation Loss: 0.014163188636302948 | LR: 1\n"
     ]
    },
    {
     "name": "stderr",
     "output_type": "stream",
     "text": [
      " 26%|██▌       | 26/100 [00:27<01:10,  1.04it/s]"
     ]
    },
    {
     "name": "stdout",
     "output_type": "stream",
     "text": [
      "Epoch: 25 | Training Loss: 0.012207450345158577 | Validation Loss: 0.014026453718543053 | LR: 1\n"
     ]
    },
    {
     "name": "stderr",
     "output_type": "stream",
     "text": [
      " 27%|██▋       | 27/100 [00:28<01:09,  1.05it/s]"
     ]
    },
    {
     "name": "stdout",
     "output_type": "stream",
     "text": [
      "Epoch: 26 | Training Loss: 0.010793964378535748 | Validation Loss: 0.013896248303353786 | LR: 1\n"
     ]
    },
    {
     "name": "stderr",
     "output_type": "stream",
     "text": [
      " 28%|██▊       | 28/100 [00:29<01:08,  1.06it/s]"
     ]
    },
    {
     "name": "stdout",
     "output_type": "stream",
     "text": [
      "Epoch: 27 | Training Loss: 0.00945079792290926 | Validation Loss: 0.013772238045930862 | LR: 1\n"
     ]
    },
    {
     "name": "stderr",
     "output_type": "stream",
     "text": [
      " 29%|██▉       | 29/100 [00:30<01:06,  1.06it/s]"
     ]
    },
    {
     "name": "stdout",
     "output_type": "stream",
     "text": [
      "Epoch: 28 | Training Loss: 0.019238702952861786 | Validation Loss: 0.013661636970937252 | LR: 1\n"
     ]
    },
    {
     "name": "stderr",
     "output_type": "stream",
     "text": [
      " 30%|███       | 30/100 [00:31<01:08,  1.02it/s]"
     ]
    },
    {
     "name": "stdout",
     "output_type": "stream",
     "text": [
      "Epoch: 29 | Training Loss: 0.01828290894627571 | Validation Loss: 0.0135733587667346 | LR: 1\n"
     ]
    },
    {
     "name": "stderr",
     "output_type": "stream",
     "text": [
      " 31%|███       | 31/100 [00:32<01:09,  1.00s/it]"
     ]
    },
    {
     "name": "stdout",
     "output_type": "stream",
     "text": [
      "Epoch: 30 | Training Loss: 0.01446953509002924 | Validation Loss: 0.013506654649972916 | LR: 1\n"
     ]
    },
    {
     "name": "stderr",
     "output_type": "stream",
     "text": [
      " 32%|███▏      | 32/100 [00:33<01:06,  1.02it/s]"
     ]
    },
    {
     "name": "stdout",
     "output_type": "stream",
     "text": [
      "Epoch: 31 | Training Loss: 0.018901968374848366 | Validation Loss: 0.01345792692154646 | LR: 1\n"
     ]
    },
    {
     "name": "stderr",
     "output_type": "stream",
     "text": [
      " 33%|███▎      | 33/100 [00:34<01:06,  1.01it/s]"
     ]
    },
    {
     "name": "stdout",
     "output_type": "stream",
     "text": [
      "Epoch: 32 | Training Loss: 0.02206040546298027 | Validation Loss: 0.013418292626738548 | LR: 1\n"
     ]
    },
    {
     "name": "stderr",
     "output_type": "stream",
     "text": [
      " 34%|███▍      | 34/100 [00:35<01:04,  1.02it/s]"
     ]
    },
    {
     "name": "stdout",
     "output_type": "stream",
     "text": [
      "Epoch: 33 | Training Loss: 0.021349908784031868 | Validation Loss: 0.013394127599895 | LR: 1\n"
     ]
    },
    {
     "name": "stderr",
     "output_type": "stream",
     "text": [
      " 35%|███▌      | 35/100 [00:36<01:02,  1.04it/s]"
     ]
    },
    {
     "name": "stdout",
     "output_type": "stream",
     "text": [
      "Epoch: 34 | Training Loss: 0.01036720909178257 | Validation Loss: 0.013371170498430729 | LR: 1\n"
     ]
    },
    {
     "name": "stderr",
     "output_type": "stream",
     "text": [
      " 36%|███▌      | 36/100 [00:37<01:00,  1.06it/s]"
     ]
    },
    {
     "name": "stdout",
     "output_type": "stream",
     "text": [
      "Epoch: 35 | Training Loss: 0.01151235681027174 | Validation Loss: 0.013354669325053692 | LR: 1\n"
     ]
    },
    {
     "name": "stderr",
     "output_type": "stream",
     "text": [
      " 37%|███▋      | 37/100 [00:38<00:58,  1.07it/s]"
     ]
    },
    {
     "name": "stdout",
     "output_type": "stream",
     "text": [
      "Epoch: 36 | Training Loss: 0.011882863938808441 | Validation Loss: 0.013343457132577896 | LR: 1\n"
     ]
    },
    {
     "name": "stderr",
     "output_type": "stream",
     "text": [
      " 38%|███▊      | 38/100 [00:39<00:57,  1.07it/s]"
     ]
    },
    {
     "name": "stdout",
     "output_type": "stream",
     "text": [
      "Epoch: 37 | Training Loss: 0.015975888818502426 | Validation Loss: 0.013336727395653725 | LR: 1\n"
     ]
    },
    {
     "name": "stderr",
     "output_type": "stream",
     "text": [
      " 39%|███▉      | 39/100 [00:40<00:58,  1.04it/s]"
     ]
    },
    {
     "name": "stdout",
     "output_type": "stream",
     "text": [
      "Epoch: 38 | Training Loss: 0.005929361097514629 | Validation Loss: 0.013329326175153255 | LR: 1\n"
     ]
    },
    {
     "name": "stderr",
     "output_type": "stream",
     "text": [
      " 40%|████      | 40/100 [00:41<00:56,  1.06it/s]"
     ]
    },
    {
     "name": "stdout",
     "output_type": "stream",
     "text": [
      "Epoch: 39 | Training Loss: 0.01154358685016632 | Validation Loss: 0.013324322178959846 | LR: 1\n"
     ]
    },
    {
     "name": "stderr",
     "output_type": "stream",
     "text": [
      " 41%|████      | 41/100 [00:41<00:55,  1.06it/s]"
     ]
    },
    {
     "name": "stdout",
     "output_type": "stream",
     "text": [
      "Epoch: 40 | Training Loss: 0.01675897091627121 | Validation Loss: 0.013323175720870495 | LR: 1\n"
     ]
    },
    {
     "name": "stderr",
     "output_type": "stream",
     "text": [
      " 42%|████▏     | 42/100 [00:42<00:54,  1.07it/s]"
     ]
    },
    {
     "name": "stdout",
     "output_type": "stream",
     "text": [
      "Epoch: 41 | Training Loss: 0.01086989976465702 | Validation Loss: 0.01332119945436716 | LR: 1\n"
     ]
    },
    {
     "name": "stderr",
     "output_type": "stream",
     "text": [
      " 43%|████▎     | 43/100 [00:44<01:02,  1.10s/it]"
     ]
    },
    {
     "name": "stdout",
     "output_type": "stream",
     "text": [
      "Epoch: 42 | Training Loss: 0.010776396840810776 | Validation Loss: 0.013316644355654716 | LR: 1\n"
     ]
    },
    {
     "name": "stderr",
     "output_type": "stream",
     "text": [
      " 44%|████▍     | 44/100 [00:46<01:15,  1.35s/it]"
     ]
    },
    {
     "name": "stdout",
     "output_type": "stream",
     "text": [
      "Epoch: 43 | Training Loss: 0.008737387135624886 | Validation Loss: 0.013314594514667988 | LR: 1\n"
     ]
    },
    {
     "name": "stderr",
     "output_type": "stream",
     "text": [
      " 45%|████▌     | 45/100 [00:47<01:07,  1.22s/it]"
     ]
    },
    {
     "name": "stdout",
     "output_type": "stream",
     "text": [
      "Epoch: 44 | Training Loss: 0.017859697341918945 | Validation Loss: 0.013315575197339058 | LR: 1\n"
     ]
    },
    {
     "name": "stderr",
     "output_type": "stream",
     "text": [
      " 46%|████▌     | 46/100 [00:48<01:06,  1.23s/it]"
     ]
    },
    {
     "name": "stdout",
     "output_type": "stream",
     "text": [
      "Epoch: 45 | Training Loss: 0.021383581683039665 | Validation Loss: 0.013312305323779583 | LR: 1\n"
     ]
    },
    {
     "name": "stderr",
     "output_type": "stream",
     "text": [
      " 47%|████▋     | 47/100 [00:49<01:00,  1.14s/it]"
     ]
    },
    {
     "name": "stdout",
     "output_type": "stream",
     "text": [
      "Epoch: 46 | Training Loss: 0.013960268348455429 | Validation Loss: 0.013312886469066143 | LR: 1\n"
     ]
    },
    {
     "name": "stderr",
     "output_type": "stream",
     "text": [
      " 48%|████▊     | 48/100 [00:50<00:56,  1.08s/it]"
     ]
    },
    {
     "name": "stdout",
     "output_type": "stream",
     "text": [
      "Epoch: 47 | Training Loss: 0.015678489580750465 | Validation Loss: 0.01331679429858923 | LR: 1\n"
     ]
    },
    {
     "name": "stderr",
     "output_type": "stream",
     "text": [
      " 49%|████▉     | 49/100 [00:51<00:52,  1.03s/it]"
     ]
    },
    {
     "name": "stdout",
     "output_type": "stream",
     "text": [
      "Epoch: 48 | Training Loss: 0.0169086791574955 | Validation Loss: 0.013317874632775784 | LR: 1\n"
     ]
    },
    {
     "name": "stderr",
     "output_type": "stream",
     "text": [
      " 50%|█████     | 50/100 [00:52<00:52,  1.04s/it]"
     ]
    },
    {
     "name": "stdout",
     "output_type": "stream",
     "text": [
      "Epoch: 49 | Training Loss: 0.016423624008893967 | Validation Loss: 0.013311929069459438 | LR: 1\n"
     ]
    },
    {
     "name": "stderr",
     "output_type": "stream",
     "text": [
      " 51%|█████     | 51/100 [00:53<00:58,  1.19s/it]"
     ]
    },
    {
     "name": "stdout",
     "output_type": "stream",
     "text": [
      "Epoch: 50 | Training Loss: 0.009615561924874783 | Validation Loss: 0.013317201286554337 | LR: 1\n"
     ]
    },
    {
     "name": "stderr",
     "output_type": "stream",
     "text": [
      " 52%|█████▏    | 52/100 [00:54<00:53,  1.11s/it]"
     ]
    },
    {
     "name": "stdout",
     "output_type": "stream",
     "text": [
      "Epoch: 51 | Training Loss: 0.009408772923052311 | Validation Loss: 0.013309638015925884 | LR: 1\n"
     ]
    },
    {
     "name": "stderr",
     "output_type": "stream",
     "text": [
      " 53%|█████▎    | 53/100 [00:56<01:00,  1.28s/it]"
     ]
    },
    {
     "name": "stdout",
     "output_type": "stream",
     "text": [
      "Epoch: 52 | Training Loss: 0.009260162711143494 | Validation Loss: 0.013309442438185215 | LR: 1\n"
     ]
    },
    {
     "name": "stderr",
     "output_type": "stream",
     "text": [
      " 54%|█████▍    | 54/100 [00:57<00:54,  1.18s/it]"
     ]
    },
    {
     "name": "stdout",
     "output_type": "stream",
     "text": [
      "Epoch: 53 | Training Loss: 0.008436133153736591 | Validation Loss: 0.013309643603861332 | LR: 1\n"
     ]
    },
    {
     "name": "stderr",
     "output_type": "stream",
     "text": [
      " 55%|█████▌    | 55/100 [00:58<00:51,  1.15s/it]"
     ]
    },
    {
     "name": "stdout",
     "output_type": "stream",
     "text": [
      "Epoch: 54 | Training Loss: 0.014952790923416615 | Validation Loss: 0.01330870296806097 | LR: 1\n"
     ]
    },
    {
     "name": "stderr",
     "output_type": "stream",
     "text": [
      " 56%|█████▌    | 56/100 [00:59<00:47,  1.08s/it]"
     ]
    },
    {
     "name": "stdout",
     "output_type": "stream",
     "text": [
      "Epoch: 55 | Training Loss: 0.013998951762914658 | Validation Loss: 0.013311863876879215 | LR: 1\n"
     ]
    },
    {
     "name": "stderr",
     "output_type": "stream",
     "text": [
      " 57%|█████▋    | 57/100 [01:00<00:44,  1.03s/it]"
     ]
    },
    {
     "name": "stdout",
     "output_type": "stream",
     "text": [
      "Epoch: 56 | Training Loss: 0.012224550358951092 | Validation Loss: 0.013312405906617641 | LR: 1\n"
     ]
    },
    {
     "name": "stderr",
     "output_type": "stream",
     "text": [
      " 58%|█████▊    | 58/100 [01:01<00:41,  1.01it/s]"
     ]
    },
    {
     "name": "stdout",
     "output_type": "stream",
     "text": [
      "Epoch: 57 | Training Loss: 0.010837987065315247 | Validation Loss: 0.013308980502188206 | LR: 1\n"
     ]
    },
    {
     "name": "stderr",
     "output_type": "stream",
     "text": [
      " 59%|█████▉    | 59/100 [01:02<00:39,  1.03it/s]"
     ]
    },
    {
     "name": "stdout",
     "output_type": "stream",
     "text": [
      "Epoch: 58 | Training Loss: 0.014050312340259552 | Validation Loss: 0.013308681547641754 | LR: 1\n"
     ]
    },
    {
     "name": "stderr",
     "output_type": "stream",
     "text": [
      " 60%|██████    | 60/100 [01:03<00:39,  1.02it/s]"
     ]
    },
    {
     "name": "stdout",
     "output_type": "stream",
     "text": [
      "Epoch: 59 | Training Loss: 0.009091947227716446 | Validation Loss: 0.013308514840900898 | LR: 1\n"
     ]
    },
    {
     "name": "stderr",
     "output_type": "stream",
     "text": [
      " 61%|██████    | 61/100 [01:04<00:37,  1.05it/s]"
     ]
    },
    {
     "name": "stdout",
     "output_type": "stream",
     "text": [
      "Epoch: 60 | Training Loss: 0.010606571100652218 | Validation Loss: 0.013308748602867126 | LR: 1\n"
     ]
    },
    {
     "name": "stderr",
     "output_type": "stream",
     "text": [
      " 62%|██████▏   | 62/100 [01:04<00:35,  1.07it/s]"
     ]
    },
    {
     "name": "stdout",
     "output_type": "stream",
     "text": [
      "Epoch: 61 | Training Loss: 0.023197218775749207 | Validation Loss: 0.01330834161490202 | LR: 1\n"
     ]
    },
    {
     "name": "stderr",
     "output_type": "stream",
     "text": [
      " 63%|██████▎   | 63/100 [01:05<00:34,  1.07it/s]"
     ]
    },
    {
     "name": "stdout",
     "output_type": "stream",
     "text": [
      "Epoch: 62 | Training Loss: 0.017009442672133446 | Validation Loss: 0.013308903202414513 | LR: 1\n"
     ]
    },
    {
     "name": "stderr",
     "output_type": "stream",
     "text": [
      " 64%|██████▍   | 64/100 [01:06<00:33,  1.07it/s]"
     ]
    },
    {
     "name": "stdout",
     "output_type": "stream",
     "text": [
      "Epoch: 63 | Training Loss: 0.027131393551826477 | Validation Loss: 0.013308599591255188 | LR: 0.9\n"
     ]
    },
    {
     "name": "stderr",
     "output_type": "stream",
     "text": [
      " 65%|██████▌   | 65/100 [01:07<00:31,  1.09it/s]"
     ]
    },
    {
     "name": "stdout",
     "output_type": "stream",
     "text": [
      "Epoch: 64 | Training Loss: 0.010041770525276661 | Validation Loss: 0.013309640809893608 | LR: 0.9\n"
     ]
    },
    {
     "name": "stderr",
     "output_type": "stream",
     "text": [
      " 66%|██████▌   | 66/100 [01:08<00:30,  1.10it/s]"
     ]
    },
    {
     "name": "stdout",
     "output_type": "stream",
     "text": [
      "Epoch: 65 | Training Loss: 0.010248055681586266 | Validation Loss: 0.013309989124536514 | LR: 0.9\n"
     ]
    },
    {
     "name": "stderr",
     "output_type": "stream",
     "text": [
      " 67%|██████▋   | 67/100 [01:09<00:29,  1.11it/s]"
     ]
    },
    {
     "name": "stdout",
     "output_type": "stream",
     "text": [
      "Epoch: 66 | Training Loss: 0.019534580409526825 | Validation Loss: 0.013311343267560005 | LR: 0.9\n"
     ]
    },
    {
     "name": "stderr",
     "output_type": "stream",
     "text": [
      " 68%|██████▊   | 68/100 [01:10<00:28,  1.12it/s]"
     ]
    },
    {
     "name": "stdout",
     "output_type": "stream",
     "text": [
      "Epoch: 67 | Training Loss: 0.007189642637968063 | Validation Loss: 0.013308069668710232 | LR: 0.9\n"
     ]
    },
    {
     "name": "stderr",
     "output_type": "stream",
     "text": [
      " 69%|██████▉   | 69/100 [01:11<00:27,  1.13it/s]"
     ]
    },
    {
     "name": "stdout",
     "output_type": "stream",
     "text": [
      "Epoch: 68 | Training Loss: 0.012303236871957779 | Validation Loss: 0.013308200053870678 | LR: 0.9\n"
     ]
    },
    {
     "name": "stderr",
     "output_type": "stream",
     "text": [
      " 70%|███████   | 70/100 [01:12<00:26,  1.13it/s]"
     ]
    },
    {
     "name": "stdout",
     "output_type": "stream",
     "text": [
      "Epoch: 69 | Training Loss: 0.01207195594906807 | Validation Loss: 0.013313219882547855 | LR: 0.9\n"
     ]
    },
    {
     "name": "stderr",
     "output_type": "stream",
     "text": [
      " 71%|███████   | 71/100 [01:13<00:26,  1.08it/s]"
     ]
    },
    {
     "name": "stdout",
     "output_type": "stream",
     "text": [
      "Epoch: 70 | Training Loss: 0.015301668085157871 | Validation Loss: 0.013309323228895664 | LR: 0.9\n"
     ]
    },
    {
     "name": "stderr",
     "output_type": "stream",
     "text": [
      " 72%|███████▏  | 72/100 [01:13<00:25,  1.09it/s]"
     ]
    },
    {
     "name": "stdout",
     "output_type": "stream",
     "text": [
      "Epoch: 71 | Training Loss: 0.009131716564297676 | Validation Loss: 0.013308065943419933 | LR: 0.9\n"
     ]
    },
    {
     "name": "stderr",
     "output_type": "stream",
     "text": [
      " 73%|███████▎  | 73/100 [01:14<00:24,  1.09it/s]"
     ]
    },
    {
     "name": "stdout",
     "output_type": "stream",
     "text": [
      "Epoch: 72 | Training Loss: 0.015038293786346912 | Validation Loss: 0.013308811001479626 | LR: 0.9\n"
     ]
    },
    {
     "name": "stderr",
     "output_type": "stream",
     "text": [
      " 74%|███████▍  | 74/100 [01:15<00:23,  1.09it/s]"
     ]
    },
    {
     "name": "stdout",
     "output_type": "stream",
     "text": [
      "Epoch: 73 | Training Loss: 0.01239604689180851 | Validation Loss: 0.013309326022863388 | LR: 0.9\n"
     ]
    },
    {
     "name": "stderr",
     "output_type": "stream",
     "text": [
      " 75%|███████▌  | 75/100 [01:16<00:22,  1.11it/s]"
     ]
    },
    {
     "name": "stdout",
     "output_type": "stream",
     "text": [
      "Epoch: 74 | Training Loss: 0.02012588083744049 | Validation Loss: 0.01330800261348486 | LR: 0.9\n"
     ]
    },
    {
     "name": "stderr",
     "output_type": "stream",
     "text": [
      " 76%|███████▌  | 76/100 [01:17<00:21,  1.11it/s]"
     ]
    },
    {
     "name": "stdout",
     "output_type": "stream",
     "text": [
      "Epoch: 75 | Training Loss: 0.024313505738973618 | Validation Loss: 0.013308780267834663 | LR: 0.9\n"
     ]
    },
    {
     "name": "stderr",
     "output_type": "stream",
     "text": [
      " 77%|███████▋  | 77/100 [01:18<00:20,  1.11it/s]"
     ]
    },
    {
     "name": "stdout",
     "output_type": "stream",
     "text": [
      "Epoch: 76 | Training Loss: 0.009944867342710495 | Validation Loss: 0.013309537433087826 | LR: 0.9\n"
     ]
    },
    {
     "name": "stderr",
     "output_type": "stream",
     "text": [
      " 78%|███████▊  | 78/100 [01:19<00:19,  1.12it/s]"
     ]
    },
    {
     "name": "stdout",
     "output_type": "stream",
     "text": [
      "Epoch: 77 | Training Loss: 0.007292300928384066 | Validation Loss: 0.013308446854352951 | LR: 0.9\n"
     ]
    },
    {
     "name": "stderr",
     "output_type": "stream",
     "text": [
      " 79%|███████▉  | 79/100 [01:20<00:19,  1.07it/s]"
     ]
    },
    {
     "name": "stdout",
     "output_type": "stream",
     "text": [
      "Epoch: 78 | Training Loss: 0.005546084139496088 | Validation Loss: 0.013309340924024582 | LR: 0.9\n"
     ]
    },
    {
     "name": "stderr",
     "output_type": "stream",
     "text": [
      " 80%|████████  | 80/100 [01:21<00:18,  1.08it/s]"
     ]
    },
    {
     "name": "stdout",
     "output_type": "stream",
     "text": [
      "Epoch: 79 | Training Loss: 0.022833863273262978 | Validation Loss: 0.01330792810767889 | LR: 0.81\n"
     ]
    },
    {
     "name": "stderr",
     "output_type": "stream",
     "text": [
      " 81%|████████  | 81/100 [01:22<00:17,  1.09it/s]"
     ]
    },
    {
     "name": "stdout",
     "output_type": "stream",
     "text": [
      "Epoch: 80 | Training Loss: 0.013351528905332088 | Validation Loss: 0.013309208676218987 | LR: 0.81\n"
     ]
    },
    {
     "name": "stderr",
     "output_type": "stream",
     "text": [
      " 82%|████████▏ | 82/100 [01:23<00:16,  1.11it/s]"
     ]
    },
    {
     "name": "stdout",
     "output_type": "stream",
     "text": [
      "Epoch: 81 | Training Loss: 0.009056208655238152 | Validation Loss: 0.013308019377291203 | LR: 0.81\n"
     ]
    },
    {
     "name": "stderr",
     "output_type": "stream",
     "text": [
      " 83%|████████▎ | 83/100 [01:23<00:15,  1.11it/s]"
     ]
    },
    {
     "name": "stdout",
     "output_type": "stream",
     "text": [
      "Epoch: 82 | Training Loss: 0.014340591616928577 | Validation Loss: 0.013311038725078106 | LR: 0.81\n"
     ]
    },
    {
     "name": "stderr",
     "output_type": "stream",
     "text": [
      " 84%|████████▍ | 84/100 [01:24<00:14,  1.12it/s]"
     ]
    },
    {
     "name": "stdout",
     "output_type": "stream",
     "text": [
      "Epoch: 83 | Training Loss: 0.00903911329805851 | Validation Loss: 0.013309032656252384 | LR: 0.81\n"
     ]
    },
    {
     "name": "stderr",
     "output_type": "stream",
     "text": [
      " 85%|████████▌ | 85/100 [01:25<00:13,  1.11it/s]"
     ]
    },
    {
     "name": "stdout",
     "output_type": "stream",
     "text": [
      "Epoch: 84 | Training Loss: 0.008642020635306835 | Validation Loss: 0.013307977467775345 | LR: 0.81\n"
     ]
    },
    {
     "name": "stderr",
     "output_type": "stream",
     "text": [
      " 86%|████████▌ | 86/100 [01:26<00:12,  1.12it/s]"
     ]
    },
    {
     "name": "stdout",
     "output_type": "stream",
     "text": [
      "Epoch: 85 | Training Loss: 0.011719249188899994 | Validation Loss: 0.013308604247868061 | LR: 0.81\n"
     ]
    },
    {
     "name": "stderr",
     "output_type": "stream",
     "text": [
      " 87%|████████▋ | 87/100 [01:27<00:12,  1.06it/s]"
     ]
    },
    {
     "name": "stdout",
     "output_type": "stream",
     "text": [
      "Epoch: 86 | Training Loss: 0.012882690876722336 | Validation Loss: 0.013308032415807247 | LR: 0.81\n"
     ]
    },
    {
     "name": "stderr",
     "output_type": "stream",
     "text": [
      " 88%|████████▊ | 88/100 [01:28<00:11,  1.04it/s]"
     ]
    },
    {
     "name": "stdout",
     "output_type": "stream",
     "text": [
      "Epoch: 87 | Training Loss: 0.0100784320384264 | Validation Loss: 0.01330849900841713 | LR: 0.81\n"
     ]
    },
    {
     "name": "stderr",
     "output_type": "stream",
     "text": [
      " 89%|████████▉ | 89/100 [01:29<00:10,  1.06it/s]"
     ]
    },
    {
     "name": "stdout",
     "output_type": "stream",
     "text": [
      "Epoch: 88 | Training Loss: 0.012253819964826107 | Validation Loss: 0.013308045454323292 | LR: 0.81\n"
     ]
    },
    {
     "name": "stderr",
     "output_type": "stream",
     "text": [
      " 90%|█████████ | 90/100 [01:30<00:09,  1.07it/s]"
     ]
    },
    {
     "name": "stdout",
     "output_type": "stream",
     "text": [
      "Epoch: 89 | Training Loss: 0.013690587133169174 | Validation Loss: 0.013309436850249767 | LR: 0.81\n"
     ]
    },
    {
     "name": "stderr",
     "output_type": "stream",
     "text": [
      " 91%|█████████ | 91/100 [01:31<00:08,  1.03it/s]"
     ]
    },
    {
     "name": "stdout",
     "output_type": "stream",
     "text": [
      "Epoch: 90 | Training Loss: 0.010010091587901115 | Validation Loss: 0.013311546295881271 | LR: 0.7290000000000001\n"
     ]
    },
    {
     "name": "stderr",
     "output_type": "stream",
     "text": [
      " 92%|█████████▏| 92/100 [01:33<00:10,  1.26s/it]"
     ]
    },
    {
     "name": "stdout",
     "output_type": "stream",
     "text": [
      "Epoch: 91 | Training Loss: 0.017928380519151688 | Validation Loss: 0.013310259208083153 | LR: 0.7290000000000001\n"
     ]
    },
    {
     "name": "stderr",
     "output_type": "stream",
     "text": [
      " 93%|█████████▎| 93/100 [01:35<00:10,  1.43s/it]"
     ]
    },
    {
     "name": "stdout",
     "output_type": "stream",
     "text": [
      "Epoch: 92 | Training Loss: 0.025217168033123016 | Validation Loss: 0.013308549299836159 | LR: 0.7290000000000001\n"
     ]
    },
    {
     "name": "stderr",
     "output_type": "stream",
     "text": [
      " 94%|█████████▍| 94/100 [01:36<00:07,  1.30s/it]"
     ]
    },
    {
     "name": "stdout",
     "output_type": "stream",
     "text": [
      "Epoch: 93 | Training Loss: 0.010348202660679817 | Validation Loss: 0.013310112990438938 | LR: 0.7290000000000001\n"
     ]
    },
    {
     "name": "stderr",
     "output_type": "stream",
     "text": [
      " 95%|█████████▌| 95/100 [01:37<00:05,  1.19s/it]"
     ]
    },
    {
     "name": "stdout",
     "output_type": "stream",
     "text": [
      "Epoch: 94 | Training Loss: 0.01423938013613224 | Validation Loss: 0.0133096007630229 | LR: 0.7290000000000001\n"
     ]
    },
    {
     "name": "stderr",
     "output_type": "stream",
     "text": [
      " 96%|█████████▌| 96/100 [01:38<00:04,  1.16s/it]"
     ]
    },
    {
     "name": "stdout",
     "output_type": "stream",
     "text": [
      "Epoch: 95 | Training Loss: 0.012421061284840107 | Validation Loss: 0.013309221714735031 | LR: 0.7290000000000001\n"
     ]
    },
    {
     "name": "stderr",
     "output_type": "stream",
     "text": [
      " 97%|█████████▋| 97/100 [01:39<00:03,  1.16s/it]"
     ]
    },
    {
     "name": "stdout",
     "output_type": "stream",
     "text": [
      "Epoch: 96 | Training Loss: 0.019760265946388245 | Validation Loss: 0.013308823108673096 | LR: 0.7290000000000001\n"
     ]
    },
    {
     "name": "stderr",
     "output_type": "stream",
     "text": [
      " 98%|█████████▊| 98/100 [01:40<00:02,  1.10s/it]"
     ]
    },
    {
     "name": "stdout",
     "output_type": "stream",
     "text": [
      "Epoch: 97 | Training Loss: 0.011950363405048847 | Validation Loss: 0.013308610767126083 | LR: 0.7290000000000001\n"
     ]
    },
    {
     "name": "stderr",
     "output_type": "stream",
     "text": [
      " 99%|█████████▉| 99/100 [01:41<00:01,  1.13s/it]"
     ]
    },
    {
     "name": "stdout",
     "output_type": "stream",
     "text": [
      "Epoch: 98 | Training Loss: 0.009915328584611416 | Validation Loss: 0.013308699242770672 | LR: 0.7290000000000001\n"
     ]
    },
    {
     "name": "stderr",
     "output_type": "stream",
     "text": [
      "100%|██████████| 100/100 [01:42<00:00,  1.03s/it]"
     ]
    },
    {
     "name": "stdout",
     "output_type": "stream",
     "text": [
      "Epoch: 99 | Training Loss: 0.009402558207511902 | Validation Loss: 0.013307977467775345 | LR: 0.7290000000000001\n"
     ]
    },
    {
     "name": "stderr",
     "output_type": "stream",
     "text": [
      "\n"
     ]
    }
   ],
   "source": [
    "# %%\n",
    "from tqdm.auto import tqdm\n",
    "EPOCHS = 100\n",
    "integrator = euler_integrator\n",
    "optimizer = torch.optim.SGD(integrator.parameters(), lr=1, momentum=0.8)\n",
    "scheduler = torch.optim.lr_scheduler.ReduceLROnPlateau(optimizer, patience=10, factor=0.9)\n",
    "\n",
    "with torch.no_grad():\n",
    "        output_states = integrator(initial_state, control_inputs)\n",
    "        val_loss = torch.nn.functional.l1_loss(output_states, target_states)\n",
    "print(f\"Initialized | Validation Loss: {val_loss.item()} | LR: {optimizer.param_groups[0]['lr']}\")\n",
    "\n",
    "losses = list()\n",
    "lrs = list()\n",
    "\n",
    "for i in tqdm(range(EPOCHS)):\n",
    "    for initial, inputs, targets in dataloader:\n",
    "        optimizer.zero_grad()\n",
    "        output_states = integrator(initial, inputs)\n",
    "        loss = torch.nn.functional.l1_loss(output_states, targets)\n",
    "        loss.backward()\n",
    "        optimizer.step()\n",
    "    #for name, param in integrator.named_parameters():\n",
    "    #    if param.requires_grad:\n",
    "    #        print(name, param.data, param.grad)\n",
    "    if i%20 == 0 and False:\n",
    "        with torch.no_grad():\n",
    "            output_states = integrator(initial_state, control_inputs)\n",
    "            val_loss = torch.nn.functional.l1_loss(output_states, target_states)\n",
    "        fig, ax = plt.subplots(1, 1, figsize=(10,10))\n",
    "        LEN=20000\n",
    "        ax.plot(target_states[:LEN, 0].cpu().numpy(), target_states[:LEN, 1].cpu().numpy(), label=\"Target\")\n",
    "        ax.plot(output_states[:LEN, 0].detach().cpu().numpy(), output_states[:LEN, 1].detach().cpu().numpy(), label=\"Prediction\")\n",
    "        ax.set_aspect(1.0)\n",
    "        ax.legend()\n",
    "        plt.show()\n",
    "        print(f\"Epoch: {i} | Training Loss: {loss.item()} | Validation Loss: {val_loss.item()} | LR: {optimizer.param_groups[0]['lr']}\")\n",
    "    with torch.no_grad():\n",
    "        output_states = integrator(batched_initial_states,batched_control_inputs)\n",
    "        val_loss = torch.nn.functional.l1_loss(output_states, batched_target_states)\n",
    "        losses.append(val_loss.item())\n",
    "    print(f\"Epoch: {i} | Training Loss: {loss.item()} | Validation Loss: {val_loss.item()} | LR: {optimizer.param_groups[0]['lr']}\")\n",
    "    lrs.append(optimizer.param_groups[0]['lr'])\n",
    "    scheduler.step(val_loss)\n"
   ]
  },
  {
   "cell_type": "code",
   "execution_count": 19,
   "id": "e59c77d6-8a4d-4f37-9152-26008d8467b2",
   "metadata": {},
   "outputs": [
    {
     "data": {
      "image/png": "[encoded data removed]",
      "text/plain": [
       "<Figure size 640x480 with 2 Axes>"
      ]
     },
     "metadata": {},
     "output_type": "display_data"
    }
   ],
   "source": [
    "fig, ax = plt.subplots()\n",
    "ax.plot(losses, label='Training Loss')\n",
    "ax.set_ylabel(\"Training Loss\")\n",
    "ax.set_yscale('log')\n",
    "secax = ax.twinx()\n",
    "secax.set_ylabel(\"Learning Rate\")\n",
    "secax.plot(lrs, label=\"Learning Rates\", color='orange')\n",
    "#secax.set_yscale('log')\n",
    "ax.set_title(\"Training Losses\")\n",
    "fig.legend()\n",
    "plt.show()"
   ]
  },
  {
   "cell_type": "code",
   "execution_count": 20,
   "id": "72ca2e81-2ef3-434e-b39a-5a454c40756d",
   "metadata": {},
   "outputs": [],
   "source": [
    "# %%\n",
    "with torch.no_grad():\n",
    "    output_states = integrator(initial_state, control_inputs)\n",
    "    val_loss = torch.nn.functional.l1_loss(output_states, target_states)"
   ]
  },
  {
   "cell_type": "code",
   "execution_count": 21,
   "id": "f73b7123-725b-49d4-a258-0f3b7a261858",
   "metadata": {},
   "outputs": [
    {
     "data": {
      "image/png": "[encoded data removed]",
      "text/plain": [
       "<Figure size 1000x1000 with 1 Axes>"
      ]
     },
     "metadata": {},
     "output_type": "display_data"
    }
   ],
   "source": [
    "fig, ax = plt.subplots(1, 1, figsize=(10,10))\n",
    "LEN=20000\n",
    "ax.plot(target_states[:LEN, 0].cpu().numpy(), target_states[:LEN, 1].cpu().numpy(), label=\"Target\")\n",
    "ax.plot(output_states[:LEN, 0].detach().cpu().numpy(), output_states[:LEN, 1].detach().cpu().numpy(), label=\"Prediction\")\n",
    "ax.set_aspect(1.0)\n",
    "ax.legend()\n",
    "ax.set_title(\"Loss {:4f}\".format(val_loss.item()))\n",
    "plt.show()"
   ]
  },
  {
   "cell_type": "code",
   "execution_count": 22,
   "id": "fefe83f2-1742-4013-a56d-111cc17ccfed",
   "metadata": {},
   "outputs": [
    {
     "name": "stdout",
     "output_type": "stream",
     "text": [
      "{\n",
      "\t\"lf\" : 0.8839200139045715,\n",
      "\t\"lr\" : 1.5087599754333496,\n",
      "\t\"Iz\" : 1538.8533935546875,\n",
      "\t\"mass\" : 1225.8848876953125,\n",
      "\t\"Df\" : 3709.082275390625,\n",
      "\t\"Cf\" : 3.462254762649536,\n",
      "\t\"Bf\" : 16.504972457885742,\n",
      "\t\"Dr\" : 3709.082275390625,\n",
      "\t\"Cr\" : 2.0830910205841064,\n",
      "\t\"Br\" : 16.302648544311523,\n",
      "\t\"Cm\" : 0.9561037421226501,\n",
      "\t\"Cr0\" : 2.1423134803771973,\n",
      "\t\"Cr2\" : -0.010570406913757324,\n",
      "}\n"
     ]
    }
   ],
   "source": [
    "print(\"{\")\n",
    "for key in dynamics.state_dict().keys():\n",
    "    print(f\"\\t\\\"{key}\\\" : {dynamics.state_dict()[key]},\")\n",
    "print(\"}\")"
   ]
  },
  {
   "cell_type": "code",
   "execution_count": null,
   "id": "cd9c16d9-e2b5-4578-a3a0-3444e59c0b09",
   "metadata": {},
   "outputs": [],
   "source": []
  }
 ],
 "metadata": {
  "kernelspec": {
   "display_name": "base",
   "language": "python",
   "name": "python3"
  },
  "language_info": {
   "codemirror_mode": {
    "name": "ipython",
    "version": 3
   },
   "file_extension": ".py",
   "mimetype": "text/x-python",
   "name": "python",
   "nbconvert_exporter": "python",
   "pygments_lexer": "ipython3",
   "version": "3.11.5"
  }
 },
 "nbformat": 4,
 "nbformat_minor": 5
}
