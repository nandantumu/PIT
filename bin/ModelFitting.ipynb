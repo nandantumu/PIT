{
 "cells": [
  {
   "cell_type": "code",
   "execution_count": 1,
   "id": "f6981fb9-6c17-42ec-bfd5-f21fc110ce65",
   "metadata": {},
   "outputs": [
    {
     "name": "stdout",
     "output_type": "stream",
     "text": [
      "cuda:2\n"
     ]
    }
   ],
   "source": [
    "# %%\n",
    "import torch\n",
    "from torch import nn\n",
    "import numpy as np\n",
    "\n",
    "from pit.dynamics.dynamic_bicycle import DynamicBicycle\n",
    "from pit.parameters import NormalParameterGroup, CovariantNormalParameterGroup\n",
    "from pit.integration import Euler, RK4\n",
    "\n",
    "import matplotlib.pyplot as plt\n",
    "import json\n",
    "\n",
    "DEVICE = 'cpu' # \"cuda:2\" if torch.cuda.is_available() else \"cpu\"\n",
    "\n",
    "print(DEVICE)\n",
    "\n",
    "# input parameters\n",
    "map_name = 'SaoPaulo'  # Nuerburgring,  SaoPaulo\n",
    "lap_number = 2  # 1 - faster, 2 - slower\n",
    "friction = '1-1'  # '1-1' - mu_x = 1.1, '0-7' - mu_x = 0.7\n",
    "\n",
    "# visualization\n",
    "with open('dataset_%s_%s_lap%s.json' % (friction, map_name, lap_number), 'r') as f:\n",
    "    data = json.load(f)"
   ]
  },
  {
   "cell_type": "code",
   "execution_count": 2,
   "id": "08533b7e-6dd8-4f66-a0ee-7f52901d3263",
   "metadata": {},
   "outputs": [],
   "source": [
    "# %%\n",
    "timestep = 0.01\n",
    "assert(data['time'][1] - data['time'][0] - timestep < 0.001)\n",
    "x = torch.tensor(data['x'])\n",
    "y = torch.tensor(data['y'])\n",
    "yaw = torch.tensor(data['yaw'])\n",
    "vx = torch.tensor(data['vx'])\n",
    "vy = torch.tensor(data['vy'])\n",
    "yaw_rate = torch.tensor(data['yaw_rate'])\n",
    "steer_angle = torch.tensor(data['steer_angle'])\n",
    "drive_force = torch.tensor(data['drive_force'])\n",
    "steer_speed = torch.tensor(data['steer_speed'])"
   ]
  },
  {
   "cell_type": "code",
   "execution_count": 3,
   "id": "f1bff06e-e600-40de-90b0-90375d506c49",
   "metadata": {},
   "outputs": [
    {
     "name": "stdout",
     "output_type": "stream",
     "text": [
      "Inputs size: torch.Size([22486, 2]) | States size: torch.Size([22486, 7])\n"
     ]
    }
   ],
   "source": [
    "# %%\n",
    "initial_state = torch.tensor([x[0],y[0],yaw[0],vx[0],vy[0],yaw_rate[0],steer_angle[0]]).to(DEVICE)\n",
    "control_inputs = torch.vstack([drive_force, steer_speed]).T\n",
    "control_inputs = control_inputs.contiguous().to(DEVICE)\n",
    "output_states = torch.vstack([x, y, yaw, vx, vy, yaw_rate, steer_angle]).T\n",
    "target_states = output_states[1:]\n",
    "target_states = target_states.contiguous().to(DEVICE)\n",
    "\n",
    "print(f\"Inputs size: {control_inputs.shape} | States size: {target_states.shape}\")"
   ]
  },
  {
   "cell_type": "code",
   "execution_count": 4,
   "id": "08140a44-3ba2-4cf4-9cee-5b4f19f6df09",
   "metadata": {},
   "outputs": [
    {
     "name": "stdout",
     "output_type": "stream",
     "text": [
      "Batched Inputs size: torch.Size([2243, 50, 2]) | Batched States size: torch.Size([2243, 50, 7])\n"
     ]
    }
   ],
   "source": [
    "# %%\n",
    "STEP_SIZE=10\n",
    "TICKS_IN_STEP=50\n",
    "state_dims = initial_state.shape[0]\n",
    "input_dims = control_inputs.shape[-1]\n",
    "total_steps = (control_inputs.shape[0]-TICKS_IN_STEP-1)//STEP_SIZE\n",
    "\n",
    "batched_initial_states = torch.zeros((total_steps, state_dims), device=DEVICE)\n",
    "batched_control_inputs = torch.zeros((total_steps, TICKS_IN_STEP, input_dims), device=DEVICE)\n",
    "batched_target_states = torch.zeros((total_steps, TICKS_IN_STEP, state_dims), device=DEVICE)\n",
    "\n",
    "for step in range(total_steps):\n",
    "    batched_initial_states[step] = output_states[step*STEP_SIZE]\n",
    "    batched_control_inputs[step] = control_inputs[step*STEP_SIZE:(step*STEP_SIZE)+TICKS_IN_STEP]\n",
    "    batched_target_states[step] = output_states[(step*STEP_SIZE)+1:(step*STEP_SIZE)+TICKS_IN_STEP+1]\n",
    "\n",
    "print(f\"Batched Inputs size: {batched_control_inputs.shape} | Batched States size: {batched_target_states.shape}\")"
   ]
  },
  {
   "cell_type": "code",
   "execution_count": 5,
   "id": "5ab227b2-be41-45ea-a9eb-b6ee8255028f",
   "metadata": {},
   "outputs": [],
   "source": [
    "# %%\n",
    "dataset = torch.utils.data.TensorDataset(batched_initial_states, batched_control_inputs, batched_target_states)\n",
    "dataloader = torch.utils.data.DataLoader(dataset, batch_size=1024, shuffle=True)"
   ]
  },
  {
   "cell_type": "code",
   "execution_count": 6,
   "id": "23127af9-b070-460f-aae6-1b81dbc07756",
   "metadata": {},
   "outputs": [
    {
     "data": {
      "text/plain": [
       "RK4(\n",
       "  (dynamics): DynamicBicycle()\n",
       "  (model_params): NormalParameterGroup(\n",
       "    (positive): Positive()\n",
       "  )\n",
       ")"
      ]
     },
     "execution_count": 6,
     "metadata": {},
     "output_type": "execute_result"
    }
   ],
   "source": [
    "# %%\n",
    "params = {\n",
    "    # axes distances\n",
    "    'lf': 0.88392,  # distance from spring mass center of gravity to front axle [m]  LENA\n",
    "    'lr': 1.50876,  # distance from spring mass center of gravity to rear axle [m]  LENB\n",
    "\n",
    "    # moments of inertia of sprung mass\n",
    "    # masses\n",
    "    'Iz': 1538.853371,  # moment of inertia for sprung mass in yaw [kg m^2]  IZZ\n",
    "    'mass': 1225.887,  # vehicle mass [kg]  MASS\n",
    "\n",
    "    # Pacejka tire force parameters\n",
    "    'Df': 3709.08227,  # [rad/m]  DF\n",
    "    'Cf': 1.3507,\n",
    "    'Bf': 16.2216,\n",
    "    'Dr': 3709.08227,  # [rad/m]  DR\n",
    "    'Cr': 1.3507,\n",
    "    'Br': 16.2216,\n",
    "    'Cm': 0.3777,\n",
    "    'Cr0': 2.1469,\n",
    "    'Cr2': 0.0,\n",
    "}\n",
    "# params.update({\n",
    "#     \"lf\" : 0.8839200139045715,\n",
    "#     \"lr\" : 1.5087599754333496,\n",
    "#     \"Iz\" : 1771.53857421875,\n",
    "#     \"mass\" : 701.0275268554688,\n",
    "#     \"Df\" : 4041.601318359375,\n",
    "#     \"Cf\" : 1.4304611682891846,\n",
    "#     \"Bf\" : 18.741268157958984,\n",
    "#     \"Dr\" : 3652.13427734375,\n",
    "#     \"Cr\" : 0.7047927379608154,\n",
    "#     \"Br\" : 27.620542526245117,\n",
    "#     \"Cm\" : 0.5324415564537048,\n",
    "#     \"Cr0\" : 10.995059967041016,\n",
    "#     \"Cr2\" : -0.03063417412340641,\n",
    "# })\n",
    "dynamics = DynamicBicycle(**params)\n",
    "param_group = NormalParameterGroup(dynamics.parameter_list, params)\n",
    "euler_param_group = NormalParameterGroup(dynamics.parameter_list, params)\n",
    "#dynamics = torch.load(\"fitted_model.pt\")\n",
    "# <---- FIX PHYSICAL PARAMS     ---->\n",
    "# dynamics.lf.requires_grad = False\n",
    "# dynamics.lr.requires_grad = False\n",
    "# dynamics.mass.requires_grad = False\n",
    "# dynamics.Iz.requires_grad = False\n",
    "# dynamics.Df.requires_grad = True\n",
    "# dynamics.Cf.requires_grad = True\n",
    "# dynamics.Bf.requires_grad = True\n",
    "# dynamics.Dr.requires_grad = True\n",
    "# dynamics.Cr.requires_grad = True\n",
    "# dynamics.Br.requires_grad = True\n",
    "# dynamics.Cm.requires_grad = True\n",
    "# dynamics.Cr0.requires_grad = True\n",
    "# dynamics.Cr2.requires_grad = True\n",
    "# <----                         ---->\n",
    "euler_integrator = Euler(dynamics, parameters=param_group, timestep=timestep)\n",
    "euler_integrator.to(DEVICE)\n",
    "rk4_integrator = RK4(dynamics=dynamics, parameters=param_group, timestep=timestep)\n",
    "rk4_integrator.to(DEVICE)\n"
   ]
  },
  {
   "cell_type": "code",
   "execution_count": 7,
   "id": "45350e52",
   "metadata": {},
   "outputs": [
    {
     "name": "stdout",
     "output_type": "stream",
     "text": [
      "Parameter containing:\n",
      "tensor([8.8392e-01, 1.5088e+00, 1.5389e+03, 1.2259e+03, 3.7091e+03, 1.3507e+00,\n",
      "        1.6222e+01, 3.7091e+03, 1.3507e+00, 1.6222e+01, 3.7770e-01, 2.1469e+00,\n",
      "        0.0000e+00], device='cuda:2', requires_grad=True)\n",
      "Parameter containing:\n",
      "tensor([1., 1., 1., 1., 1., 1., 1., 1., 1., 1., 1., 1., 1.], device='cuda:2',\n",
      "       requires_grad=True)\n",
      "tensor([1.3133, 1.3133, 1.3133, 1.3133, 1.3133, 1.3133, 1.3133, 1.3133, 1.3133,\n",
      "        1.3133, 1.3133, 1.3133, 1.3133], device='cuda:2',\n",
      "       grad_fn=<SoftplusBackward0>)\n"
     ]
    }
   ],
   "source": [
    "for param in param_group.parameters():\n",
    "    print(param)\n",
    "print(param_group.scale)"
   ]
  },
  {
   "cell_type": "code",
   "execution_count": 8,
   "id": "41863771",
   "metadata": {},
   "outputs": [],
   "source": [
    "with torch.no_grad():\n",
    "    euler_integrator.eval()\n",
    "    initial_guess_output_states = euler_integrator(initial_state, control_inputs)\n"
   ]
  },
  {
   "cell_type": "code",
   "execution_count": 9,
   "id": "0b38948a-c342-4f63-9bef-441340e44d13",
   "metadata": {},
   "outputs": [],
   "source": [
    "with torch.no_grad():\n",
    "    rk4_integrator.eval()\n",
    "    initial_guess_output_states = rk4_integrator(initial_state, control_inputs)\n"
   ]
  },
  {
   "cell_type": "code",
   "execution_count": 10,
   "id": "a5de72b9-6790-4036-8698-9c0516024cd2",
   "metadata": {},
   "outputs": [
    {
     "data": {
      "text/plain": [
       "<matplotlib.legend.Legend at 0x7f177a0616d0>"
      ]
     },
     "execution_count": 10,
     "metadata": {},
     "output_type": "execute_result"
    },
    {
     "data": {
      "image/png": "[encoded data removed]",
      "text/plain": [
       "<Figure size 1500x1500 with 1 Axes>"
      ]
     },
     "metadata": {},
     "output_type": "display_data"
    }
   ],
   "source": [
    "# %%\n",
    "fig, ax = plt.subplots(1, 1, figsize=(5,5))\n",
    "LEN=20000\n",
    "ax.plot(target_states[:LEN, 0].cpu().numpy(), target_states[:LEN, 1].cpu().numpy(), label=\"Target\")\n",
    "ax.plot(initial_guess_output_states[:LEN, 0].detach().cpu().numpy(), initial_guess_output_states[:LEN, 1].detach().cpu().numpy(), label=\"Euler Prediction\")\n",
    "#ax.plot(rk4_output_states[:LEN, 0].detach().cpu().numpy(), rk4_output_states[:LEN, 1].detach().cpu().numpy(), label=\"RK4 Prediction\")\n",
    "ax.set_aspect(1.0)\n",
    "ax.legend()"
   ]
  },
  {
   "cell_type": "code",
   "execution_count": 11,
   "id": "359d3e70-0bca-4c7b-92d3-e90f0122dde2",
   "metadata": {
    "tags": []
   },
   "outputs": [
    {
     "name": "stderr",
     "output_type": "stream",
     "text": [
      "/root/.pyenv/versions/3.11.9/lib/python3.11/site-packages/tqdm/auto.py:21: TqdmWarning: IProgress not found. Please update jupyter and ipywidgets. See https://ipywidgets.readthedocs.io/en/stable/user_install.html\n",
      "  from .autonotebook import tqdm as notebook_tqdm\n",
      "  1%|          | 3/500 [00:14<39:50,  4.81s/it]\n"
     ]
    },
    {
     "ename": "KeyboardInterrupt",
     "evalue": "",
     "output_type": "error",
     "traceback": [
      "\u001b[0;31m---------------------------------------------------------------------------\u001b[0m",
      "\u001b[0;31mKeyboardInterrupt\u001b[0m                         Traceback (most recent call last)",
      "Cell \u001b[0;32mIn[11], line 20\u001b[0m\n\u001b[1;32m     18\u001b[0m integrator\u001b[38;5;241m.\u001b[39mtrain()\n\u001b[1;32m     19\u001b[0m optimizer\u001b[38;5;241m.\u001b[39mzero_grad()\n\u001b[0;32m---> 20\u001b[0m output_states \u001b[38;5;241m=\u001b[39m \u001b[43mintegrator\u001b[49m\u001b[43m(\u001b[49m\u001b[43minitial\u001b[49m\u001b[43m,\u001b[49m\u001b[43m \u001b[49m\u001b[43minputs\u001b[49m\u001b[43m)\u001b[49m\n\u001b[1;32m     21\u001b[0m loss \u001b[38;5;241m=\u001b[39m torch\u001b[38;5;241m.\u001b[39mnn\u001b[38;5;241m.\u001b[39mfunctional\u001b[38;5;241m.\u001b[39ml1_loss(output_states, targets)\n\u001b[1;32m     22\u001b[0m loss\u001b[38;5;241m.\u001b[39mbackward()\n",
      "File \u001b[0;32m~/.pyenv/versions/3.11.9/lib/python3.11/site-packages/torch/nn/modules/module.py:1532\u001b[0m, in \u001b[0;36mModule._wrapped_call_impl\u001b[0;34m(self, *args, **kwargs)\u001b[0m\n\u001b[1;32m   1530\u001b[0m     \u001b[38;5;28;01mreturn\u001b[39;00m \u001b[38;5;28mself\u001b[39m\u001b[38;5;241m.\u001b[39m_compiled_call_impl(\u001b[38;5;241m*\u001b[39margs, \u001b[38;5;241m*\u001b[39m\u001b[38;5;241m*\u001b[39mkwargs)  \u001b[38;5;66;03m# type: ignore[misc]\u001b[39;00m\n\u001b[1;32m   1531\u001b[0m \u001b[38;5;28;01melse\u001b[39;00m:\n\u001b[0;32m-> 1532\u001b[0m     \u001b[38;5;28;01mreturn\u001b[39;00m \u001b[38;5;28;43mself\u001b[39;49m\u001b[38;5;241;43m.\u001b[39;49m\u001b[43m_call_impl\u001b[49m\u001b[43m(\u001b[49m\u001b[38;5;241;43m*\u001b[39;49m\u001b[43margs\u001b[49m\u001b[43m,\u001b[49m\u001b[43m \u001b[49m\u001b[38;5;241;43m*\u001b[39;49m\u001b[38;5;241;43m*\u001b[39;49m\u001b[43mkwargs\u001b[49m\u001b[43m)\u001b[49m\n",
      "File \u001b[0;32m~/.pyenv/versions/3.11.9/lib/python3.11/site-packages/torch/nn/modules/module.py:1541\u001b[0m, in \u001b[0;36mModule._call_impl\u001b[0;34m(self, *args, **kwargs)\u001b[0m\n\u001b[1;32m   1536\u001b[0m \u001b[38;5;66;03m# If we don't have any hooks, we want to skip the rest of the logic in\u001b[39;00m\n\u001b[1;32m   1537\u001b[0m \u001b[38;5;66;03m# this function, and just call forward.\u001b[39;00m\n\u001b[1;32m   1538\u001b[0m \u001b[38;5;28;01mif\u001b[39;00m \u001b[38;5;129;01mnot\u001b[39;00m (\u001b[38;5;28mself\u001b[39m\u001b[38;5;241m.\u001b[39m_backward_hooks \u001b[38;5;129;01mor\u001b[39;00m \u001b[38;5;28mself\u001b[39m\u001b[38;5;241m.\u001b[39m_backward_pre_hooks \u001b[38;5;129;01mor\u001b[39;00m \u001b[38;5;28mself\u001b[39m\u001b[38;5;241m.\u001b[39m_forward_hooks \u001b[38;5;129;01mor\u001b[39;00m \u001b[38;5;28mself\u001b[39m\u001b[38;5;241m.\u001b[39m_forward_pre_hooks\n\u001b[1;32m   1539\u001b[0m         \u001b[38;5;129;01mor\u001b[39;00m _global_backward_pre_hooks \u001b[38;5;129;01mor\u001b[39;00m _global_backward_hooks\n\u001b[1;32m   1540\u001b[0m         \u001b[38;5;129;01mor\u001b[39;00m _global_forward_hooks \u001b[38;5;129;01mor\u001b[39;00m _global_forward_pre_hooks):\n\u001b[0;32m-> 1541\u001b[0m     \u001b[38;5;28;01mreturn\u001b[39;00m \u001b[43mforward_call\u001b[49m\u001b[43m(\u001b[49m\u001b[38;5;241;43m*\u001b[39;49m\u001b[43margs\u001b[49m\u001b[43m,\u001b[49m\u001b[43m \u001b[49m\u001b[38;5;241;43m*\u001b[39;49m\u001b[38;5;241;43m*\u001b[39;49m\u001b[43mkwargs\u001b[49m\u001b[43m)\u001b[49m\n\u001b[1;32m   1543\u001b[0m \u001b[38;5;28;01mtry\u001b[39;00m:\n\u001b[1;32m   1544\u001b[0m     result \u001b[38;5;241m=\u001b[39m \u001b[38;5;28;01mNone\u001b[39;00m\n",
      "File \u001b[0;32m/FrictionEstimation/PIT/pit/integration/rk4.py:64\u001b[0m, in \u001b[0;36mRK4.forward\u001b[0;34m(self, initial_state, control_inputs)\u001b[0m\n\u001b[1;32m     62\u001b[0m k2 \u001b[38;5;241m=\u001b[39m \u001b[38;5;28mself\u001b[39m\u001b[38;5;241m.\u001b[39mdynamics(integrated_states[i\u001b[38;5;241m-\u001b[39m\u001b[38;5;241m1\u001b[39m], control_inputs[:,i], params)\n\u001b[1;32m     63\u001b[0m k3_state \u001b[38;5;241m=\u001b[39m integrated_states[i\u001b[38;5;241m-\u001b[39m\u001b[38;5;241m1\u001b[39m] \u001b[38;5;241m+\u001b[39m (\u001b[38;5;28mself\u001b[39m\u001b[38;5;241m.\u001b[39mtimestep \u001b[38;5;241m*\u001b[39m k2 \u001b[38;5;241m/\u001b[39m \u001b[38;5;241m2\u001b[39m)\n\u001b[0;32m---> 64\u001b[0m k3 \u001b[38;5;241m=\u001b[39m \u001b[38;5;28;43mself\u001b[39;49m\u001b[38;5;241;43m.\u001b[39;49m\u001b[43mdynamics\u001b[49m\u001b[43m(\u001b[49m\u001b[43mintegrated_states\u001b[49m\u001b[43m[\u001b[49m\u001b[43mi\u001b[49m\u001b[38;5;241;43m-\u001b[39;49m\u001b[38;5;241;43m1\u001b[39;49m\u001b[43m]\u001b[49m\u001b[43m,\u001b[49m\u001b[43m \u001b[49m\u001b[43mcontrol_inputs\u001b[49m\u001b[43m[\u001b[49m\u001b[43m:\u001b[49m\u001b[43m,\u001b[49m\u001b[43mi\u001b[49m\u001b[43m]\u001b[49m\u001b[43m,\u001b[49m\u001b[43m \u001b[49m\u001b[43mparams\u001b[49m\u001b[43m)\u001b[49m\n\u001b[1;32m     65\u001b[0m k4_state \u001b[38;5;241m=\u001b[39m integrated_states[i\u001b[38;5;241m-\u001b[39m\u001b[38;5;241m1\u001b[39m] \u001b[38;5;241m+\u001b[39m (\u001b[38;5;28mself\u001b[39m\u001b[38;5;241m.\u001b[39mtimestep \u001b[38;5;241m*\u001b[39m k3)\n\u001b[1;32m     66\u001b[0m k4 \u001b[38;5;241m=\u001b[39m \u001b[38;5;28mself\u001b[39m\u001b[38;5;241m.\u001b[39mdynamics(integrated_states[i\u001b[38;5;241m-\u001b[39m\u001b[38;5;241m1\u001b[39m], control_inputs[:,i], params)\n",
      "File \u001b[0;32m~/.pyenv/versions/3.11.9/lib/python3.11/site-packages/torch/nn/modules/module.py:1532\u001b[0m, in \u001b[0;36mModule._wrapped_call_impl\u001b[0;34m(self, *args, **kwargs)\u001b[0m\n\u001b[1;32m   1530\u001b[0m     \u001b[38;5;28;01mreturn\u001b[39;00m \u001b[38;5;28mself\u001b[39m\u001b[38;5;241m.\u001b[39m_compiled_call_impl(\u001b[38;5;241m*\u001b[39margs, \u001b[38;5;241m*\u001b[39m\u001b[38;5;241m*\u001b[39mkwargs)  \u001b[38;5;66;03m# type: ignore[misc]\u001b[39;00m\n\u001b[1;32m   1531\u001b[0m \u001b[38;5;28;01melse\u001b[39;00m:\n\u001b[0;32m-> 1532\u001b[0m     \u001b[38;5;28;01mreturn\u001b[39;00m \u001b[38;5;28;43mself\u001b[39;49m\u001b[38;5;241;43m.\u001b[39;49m\u001b[43m_call_impl\u001b[49m\u001b[43m(\u001b[49m\u001b[38;5;241;43m*\u001b[39;49m\u001b[43margs\u001b[49m\u001b[43m,\u001b[49m\u001b[43m \u001b[49m\u001b[38;5;241;43m*\u001b[39;49m\u001b[38;5;241;43m*\u001b[39;49m\u001b[43mkwargs\u001b[49m\u001b[43m)\u001b[49m\n",
      "File \u001b[0;32m~/.pyenv/versions/3.11.9/lib/python3.11/site-packages/torch/nn/modules/module.py:1541\u001b[0m, in \u001b[0;36mModule._call_impl\u001b[0;34m(self, *args, **kwargs)\u001b[0m\n\u001b[1;32m   1536\u001b[0m \u001b[38;5;66;03m# If we don't have any hooks, we want to skip the rest of the logic in\u001b[39;00m\n\u001b[1;32m   1537\u001b[0m \u001b[38;5;66;03m# this function, and just call forward.\u001b[39;00m\n\u001b[1;32m   1538\u001b[0m \u001b[38;5;28;01mif\u001b[39;00m \u001b[38;5;129;01mnot\u001b[39;00m (\u001b[38;5;28mself\u001b[39m\u001b[38;5;241m.\u001b[39m_backward_hooks \u001b[38;5;129;01mor\u001b[39;00m \u001b[38;5;28mself\u001b[39m\u001b[38;5;241m.\u001b[39m_backward_pre_hooks \u001b[38;5;129;01mor\u001b[39;00m \u001b[38;5;28mself\u001b[39m\u001b[38;5;241m.\u001b[39m_forward_hooks \u001b[38;5;129;01mor\u001b[39;00m \u001b[38;5;28mself\u001b[39m\u001b[38;5;241m.\u001b[39m_forward_pre_hooks\n\u001b[1;32m   1539\u001b[0m         \u001b[38;5;129;01mor\u001b[39;00m _global_backward_pre_hooks \u001b[38;5;129;01mor\u001b[39;00m _global_backward_hooks\n\u001b[1;32m   1540\u001b[0m         \u001b[38;5;129;01mor\u001b[39;00m _global_forward_hooks \u001b[38;5;129;01mor\u001b[39;00m _global_forward_pre_hooks):\n\u001b[0;32m-> 1541\u001b[0m     \u001b[38;5;28;01mreturn\u001b[39;00m \u001b[43mforward_call\u001b[49m\u001b[43m(\u001b[49m\u001b[38;5;241;43m*\u001b[39;49m\u001b[43margs\u001b[49m\u001b[43m,\u001b[49m\u001b[43m \u001b[49m\u001b[38;5;241;43m*\u001b[39;49m\u001b[38;5;241;43m*\u001b[39;49m\u001b[43mkwargs\u001b[49m\u001b[43m)\u001b[49m\n\u001b[1;32m   1543\u001b[0m \u001b[38;5;28;01mtry\u001b[39;00m:\n\u001b[1;32m   1544\u001b[0m     result \u001b[38;5;241m=\u001b[39m \u001b[38;5;28;01mNone\u001b[39;00m\n",
      "File \u001b[0;32m/FrictionEstimation/PIT/pit/dynamics/dynamic_bicycle.py:106\u001b[0m, in \u001b[0;36mDynamicBicycle.forward\u001b[0;34m(self, states, control_inputs, params)\u001b[0m\n\u001b[1;32m    103\u001b[0m batch_mode \u001b[38;5;241m=\u001b[39m \u001b[38;5;28;01mTrue\u001b[39;00m \u001b[38;5;28;01mif\u001b[39;00m \u001b[38;5;28mlen\u001b[39m(states\u001b[38;5;241m.\u001b[39mshape)\u001b[38;5;241m==\u001b[39m\u001b[38;5;241m2\u001b[39m \u001b[38;5;28;01melse\u001b[39;00m \u001b[38;5;28;01mFalse\u001b[39;00m\n\u001b[1;32m    105\u001b[0m diff \u001b[38;5;241m=\u001b[39m torch\u001b[38;5;241m.\u001b[39mzeros_like(states)\n\u001b[0;32m--> 106\u001b[0m tire_forces \u001b[38;5;241m=\u001b[39m \u001b[38;5;28;43mself\u001b[39;49m\u001b[38;5;241;43m.\u001b[39;49m\u001b[43mcalculate_tire_forces\u001b[49m\u001b[43m(\u001b[49m\u001b[43mstates\u001b[49m\u001b[43m,\u001b[49m\u001b[43m \u001b[49m\u001b[43mcontrol_inputs\u001b[49m\u001b[43m,\u001b[49m\u001b[43m \u001b[49m\u001b[43mparams\u001b[49m\u001b[43m)\u001b[49m\n\u001b[1;32m    107\u001b[0m \u001b[38;5;28;01mif\u001b[39;00m batch_mode:\n\u001b[1;32m    108\u001b[0m     diff[:, X] \u001b[38;5;241m=\u001b[39m states[:, VX] \u001b[38;5;241m*\u001b[39m torch\u001b[38;5;241m.\u001b[39mcos(states[:, YAW]) \u001b[38;5;241m-\u001b[39m states[:, VY] \u001b[38;5;241m*\u001b[39m torch\u001b[38;5;241m.\u001b[39msin(states[:, YAW])\n",
      "File \u001b[0;32m/FrictionEstimation/PIT/pit/dynamics/dynamic_bicycle.py:80\u001b[0m, in \u001b[0;36mDynamicBicycle.calculate_tire_forces\u001b[0;34m(self, states, control_inputs, params)\u001b[0m\n\u001b[1;32m     78\u001b[0m tire_forces \u001b[38;5;241m=\u001b[39m torch\u001b[38;5;241m.\u001b[39mzeros((B, \u001b[38;5;241m3\u001b[39m), device\u001b[38;5;241m=\u001b[39mdevice)\n\u001b[1;32m     79\u001b[0m alpha_f \u001b[38;5;241m=\u001b[39m states[:, STEERING_ANGLE] \u001b[38;5;241m-\u001b[39m torch\u001b[38;5;241m.\u001b[39marctan((states[:, YAW_RATE]\u001b[38;5;241m*\u001b[39mparams[\u001b[38;5;124m'\u001b[39m\u001b[38;5;124mlf\u001b[39m\u001b[38;5;124m'\u001b[39m] \u001b[38;5;241m+\u001b[39m states[:, VY])\u001b[38;5;241m/\u001b[39mstates[:, VX])\n\u001b[0;32m---> 80\u001b[0m alpha_r \u001b[38;5;241m=\u001b[39m \u001b[43mtorch\u001b[49m\u001b[38;5;241;43m.\u001b[39;49m\u001b[43marctan\u001b[49m\u001b[43m(\u001b[49m\u001b[43m(\u001b[49m\u001b[43mstates\u001b[49m\u001b[43m[\u001b[49m\u001b[43m:\u001b[49m\u001b[43m,\u001b[49m\u001b[43m \u001b[49m\u001b[43mYAW_RATE\u001b[49m\u001b[43m]\u001b[49m\u001b[43m \u001b[49m\u001b[38;5;241;43m*\u001b[39;49m\u001b[43m \u001b[49m\u001b[43mparams\u001b[49m\u001b[43m[\u001b[49m\u001b[38;5;124;43m'\u001b[39;49m\u001b[38;5;124;43mlr\u001b[39;49m\u001b[38;5;124;43m'\u001b[39;49m\u001b[43m]\u001b[49m\u001b[43m \u001b[49m\u001b[38;5;241;43m-\u001b[39;49m\u001b[43m \u001b[49m\u001b[43mstates\u001b[49m\u001b[43m[\u001b[49m\u001b[43m:\u001b[49m\u001b[43m,\u001b[49m\u001b[43m \u001b[49m\u001b[43mVY\u001b[49m\u001b[43m]\u001b[49m\u001b[43m)\u001b[49m\u001b[38;5;241;43m/\u001b[39;49m\u001b[43mstates\u001b[49m\u001b[43m[\u001b[49m\u001b[43m:\u001b[49m\u001b[43m,\u001b[49m\u001b[43m \u001b[49m\u001b[43mVX\u001b[49m\u001b[43m]\u001b[49m\u001b[43m)\u001b[49m\n\u001b[1;32m     81\u001b[0m tire_forces[:, FRX] \u001b[38;5;241m=\u001b[39m params[\u001b[38;5;124m'\u001b[39m\u001b[38;5;124mCm\u001b[39m\u001b[38;5;124m'\u001b[39m] \u001b[38;5;241m*\u001b[39m control_inputs[:, DRIVE_FORCE] \u001b[38;5;241m-\u001b[39m params[\u001b[38;5;124m'\u001b[39m\u001b[38;5;124mCr0\u001b[39m\u001b[38;5;124m'\u001b[39m] \u001b[38;5;241m-\u001b[39m params[\u001b[38;5;124m'\u001b[39m\u001b[38;5;124mCr2\u001b[39m\u001b[38;5;124m'\u001b[39m] \u001b[38;5;241m*\u001b[39m states[:, VX]\u001b[38;5;241m*\u001b[39m\u001b[38;5;241m*\u001b[39m\u001b[38;5;241m2.0\u001b[39m\n\u001b[1;32m     82\u001b[0m tire_forces[:, FFY] \u001b[38;5;241m=\u001b[39m params[\u001b[38;5;124m'\u001b[39m\u001b[38;5;124mDf\u001b[39m\u001b[38;5;124m'\u001b[39m] \u001b[38;5;241m*\u001b[39m torch\u001b[38;5;241m.\u001b[39msin(params[\u001b[38;5;124m'\u001b[39m\u001b[38;5;124mCf\u001b[39m\u001b[38;5;124m'\u001b[39m] \u001b[38;5;241m*\u001b[39m torch\u001b[38;5;241m.\u001b[39marctan(params[\u001b[38;5;124m'\u001b[39m\u001b[38;5;124mBf\u001b[39m\u001b[38;5;124m'\u001b[39m] \u001b[38;5;241m*\u001b[39m alpha_f))\n",
      "\u001b[0;31mKeyboardInterrupt\u001b[0m: "
     ]
    }
   ],
   "source": [
    "# %%\n",
    "from tqdm.auto import tqdm\n",
    "EPOCHS = 500\n",
    "integrator = rk4_integrator\n",
    "optimizer = torch.optim.SGD(integrator.parameters(), lr=1, momentum=0.8)\n",
    "scheduler = torch.optim.lr_scheduler.ReduceLROnPlateau(optimizer, patience=10, factor=0.7)\n",
    " \n",
    "# with torch.no_grad():\n",
    "#     output_states = integrator(initial_state, control_inputs)\n",
    "#     val_loss = torch.nn.functional.l1_loss(output_states, target_states)\n",
    "# print(f\"Initialized | Validation Loss: {val_loss.item()} | LR: {optimizer.param_groups[0]['lr']}\")\n",
    "\n",
    "losses = list()\n",
    "lrs = list()\n",
    "\n",
    "for i in tqdm(range(EPOCHS)):\n",
    "    for initial, inputs, targets in dataloader:\n",
    "        integrator.train()\n",
    "        optimizer.zero_grad()\n",
    "        output_states = integrator(initial, inputs)\n",
    "        loss = torch.nn.functional.l1_loss(output_states, targets)\n",
    "        loss.backward()\n",
    "        torch.nn.utils.clip_grad_norm_(integrator.parameters(), 1.0)\n",
    "        optimizer.step()\n",
    "    #for name, param in integrator.named_parameters():\n",
    "    #    if param.requires_grad:\n",
    "    #        print(name, param.data, param.grad)\n",
    "    if i%20 == 0 and False:\n",
    "        with torch.no_grad():\n",
    "            output_states = integrator(initial_state, control_inputs)\n",
    "            val_loss = torch.nn.functional.l1_loss(output_states, target_states)\n",
    "        fig, ax = plt.subplots(1, 1, figsize=(10,10))\n",
    "        LEN=20000\n",
    "        ax.plot(target_states[:LEN, 0].cpu().numpy(), target_states[:LEN, 1].cpu().numpy(), label=\"Target\")\n",
    "        ax.plot(output_states[:LEN, 0].detach().cpu().numpy(), output_states[:LEN, 1].detach().cpu().numpy(), label=\"Prediction\")\n",
    "        ax.set_aspect(1.0)\n",
    "        ax.legend()\n",
    "        plt.show()\n",
    "        print(f\"Epoch: {i} | Training Loss: {loss.item()} | Validation Loss: {val_loss.item()} | LR: {optimizer.param_groups[0]['lr']}\")\n",
    "    if i%20 == 0 and False:\n",
    "        # Plot the covariance matrix of the parameters, and then the means below them, each as an imshow\n",
    "        fig, ax = plt.subplots(2, 1, figsize=(3,3), sharex=True)\n",
    "        cov = param_group.covariance\n",
    "        mean = param_group.loc\n",
    "        ax[0].imshow(cov.numpy(force=True))\n",
    "        ax[1].imshow(mean.numpy(force=True).reshape(1, -1))\n",
    "        plt.colorbar(ax[0].imshow(cov.numpy(force=True)))\n",
    "        plt.colorbar(ax[1].imshow(mean.numpy(force=True).reshape(1, -1)))\n",
    "        plt.show()\n",
    "    if i%20 == 0 and False:\n",
    "        # Plot the mean and variance of each parameter as normal distributions\n",
    "        tqdm.write(\"Mean: \" + str(param_group.loc))\n",
    "        tqdm.write(\"Scale: \" + str(param_group.scale))\n",
    "        # fig, ax = plt.subplots(2, 1, figsize=(10,10), sharex=True)\n",
    "        # mean = param_group.loc.numpy(force=True)\n",
    "        # std = torch.diag(param_group.scale).numpy(force=True)\n",
    "        # for i in range(len(mean)):\n",
    "        #     x = np.linspace(mean[i]-3*std[i], mean[i]+3*std[i], 100)\n",
    "        #     y = np.exp(-0.5*((x-mean[i])/std[i])**2)/(std[i]*np.sqrt(2*np.pi))\n",
    "        #     ax[0].plot(x, y)\n",
    "        #     ax[0].set_title(\"Mean\")\n",
    "        #     ax[1].plot(x, y)\n",
    "        #     ax[1].set_title(\"Standard Deviation\")\n",
    "        plt.show()\n",
    "    with torch.no_grad():\n",
    "        integrator.eval()\n",
    "        output_states = integrator(batched_initial_states,batched_control_inputs)\n",
    "        val_loss = torch.nn.functional.l1_loss(output_states, batched_target_states)\n",
    "        losses.append(val_loss.item())\n",
    "    # tqdm.write(f\"Epoch: {i} | Training Loss: {loss.item()} | Validation Loss: {val_loss.item()} | LR: {optimizer.param_groups[0]['lr']}\")\n",
    "    lrs.append(optimizer.param_groups[0]['lr'])\n",
    "    scheduler.step(val_loss)\n"
   ]
  },
  {
   "cell_type": "code",
   "execution_count": null,
   "id": "14d00617",
   "metadata": {},
   "outputs": [],
   "source": [
    "for param in param_group.parameters():\n",
    "    print(param)"
   ]
  },
  {
   "cell_type": "code",
   "execution_count": null,
   "id": "4d7e852d",
   "metadata": {},
   "outputs": [],
   "source": [
    "for param in euler_param_group.parameters():\n",
    "    print(param)"
   ]
  },
  {
   "cell_type": "code",
   "execution_count": null,
   "id": "0f9e43a0",
   "metadata": {},
   "outputs": [],
   "source": [
    "print(f\"Mean: {param_group.loc}\")\n",
    "print(f\"Scale: {param_group.scale}\")"
   ]
  },
  {
   "cell_type": "code",
   "execution_count": null,
   "id": "e59c77d6-8a4d-4f37-9152-26008d8467b2",
   "metadata": {},
   "outputs": [],
   "source": [
    "fig, ax = plt.subplots(figsize=(5,3))\n",
    "ax.plot(losses, label='Training Loss')\n",
    "ax.set_ylabel(\"Training Loss\")\n",
    "ax.set_yscale('log')\n",
    "secax = ax.twinx()\n",
    "secax.set_ylabel(\"Learning Rate\")\n",
    "secax.plot(lrs, label=\"Learning Rates\", color='orange')\n",
    "secax.set_yscale('log')\n",
    "ax.set_title(\"Training Losses\")\n",
    "fig.legend()\n",
    "plt.show()"
   ]
  },
  {
   "cell_type": "code",
   "execution_count": 16,
   "id": "72ca2e81-2ef3-434e-b39a-5a454c40756d",
   "metadata": {},
   "outputs": [],
   "source": [
    "# %%\n",
    "with torch.no_grad():\n",
    "    integrator.eval()\n",
    "    output_states = integrator(initial_state, control_inputs)\n",
    "    val_loss = torch.nn.functional.l1_loss(output_states, target_states)"
   ]
  },
  {
   "cell_type": "code",
   "execution_count": null,
   "id": "f73b7123-725b-49d4-a258-0f3b7a261858",
   "metadata": {},
   "outputs": [],
   "source": [
    "fig, ax = plt.subplots(1, 1, figsize=(5,5))\n",
    "LEN=20000\n",
    "ax.plot(target_states[:LEN, 1].cpu().numpy(), target_states[:LEN, 0].cpu().numpy(), label=\"Target\")\n",
    "ax.plot(output_states[:LEN, 1].detach().cpu().numpy(), output_states[:LEN, 0].detach().cpu().numpy(), label=\"Final Parameter Estimate\")\n",
    "# ax.plot(initial_guess_output_states[:LEN, 1].detach().cpu().numpy(), initial_guess_output_states[:LEN, 0].detach().cpu().numpy(), label=\"Initial Parameter Estimate\")\n",
    "ax.set_aspect(1.0)\n",
    "ax.legend()\n",
    "ax.set_title(\"20,000 Timestep Integrated Trajectories\")\n",
    "plt.savefig(\"integrated_traj.pdf\", bbox_inches='tight')\n",
    "plt.show()"
   ]
  },
  {
   "cell_type": "code",
   "execution_count": null,
   "id": "d5f9223e",
   "metadata": {},
   "outputs": [],
   "source": [
    "torch.norm(output_states[:,:2] - target_states[:,:2])/output_states.shape[0]"
   ]
  },
  {
   "cell_type": "code",
   "execution_count": null,
   "id": "9b5c3ee4",
   "metadata": {},
   "outputs": [],
   "source": [
    "output_states.shape"
   ]
  },
  {
   "cell_type": "code",
   "execution_count": null,
   "id": "fefe83f2-1742-4013-a56d-111cc17ccfed",
   "metadata": {},
   "outputs": [],
   "source": [
    "print(\"{\")\n",
    "for key in dynamics.state_dict().keys():\n",
    "    print(f\"\\t\\\"{key}\\\" : {dynamics.state_dict()[key]},\")\n",
    "print(\"}\")"
   ]
  },
  {
   "cell_type": "code",
   "execution_count": null,
   "id": "8c460191",
   "metadata": {},
   "outputs": [],
   "source": [
    "rk4_integrator.model_params.distribution.covariance_matrix"
   ]
  },
  {
   "cell_type": "code",
   "execution_count": null,
   "id": "de146ac2",
   "metadata": {},
   "outputs": [],
   "source": []
  },
  {
   "cell_type": "code",
   "execution_count": null,
   "id": "d28599ab",
   "metadata": {},
   "outputs": [],
   "source": []
  }
 ],
 "metadata": {
  "kernelspec": {
   "display_name": "Python 3",
   "language": "python",
   "name": "python3"
  },
  "language_info": {
   "codemirror_mode": {
    "name": "ipython",
    "version": 3
   },
   "file_extension": ".py",
   "mimetype": "text/x-python",
   "name": "python",
   "nbconvert_exporter": "python",
   "pygments_lexer": "ipython3",
   "version": "3.11.9"
  }
 },
 "nbformat": 4,
 "nbformat_minor": 5
}
