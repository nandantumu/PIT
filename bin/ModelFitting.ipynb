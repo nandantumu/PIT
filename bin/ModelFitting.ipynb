{
 "cells": [
  {
   "cell_type": "code",
   "execution_count": 1,
   "id": "f6981fb9-6c17-42ec-bfd5-f21fc110ce65",
   "metadata": {},
   "outputs": [
    {
     "name": "stdout",
     "output_type": "stream",
     "text": [
      "cpu\n"
     ]
    }
   ],
   "source": [
    "# %%\n",
    "import torch\n",
    "from torch import nn\n",
    "import numpy as np\n",
    "\n",
    "from pit.dynamics.dynamic_bicycle import DynamicBicycle\n",
    "from pit.integration import Euler, RK4\n",
    "\n",
    "import matplotlib.pyplot as plt\n",
    "import json\n",
    "\n",
    "DEVICE = \"cuda\" if torch.cuda.is_available() else \"cpu\"\n",
    "\n",
    "print(DEVICE)\n",
    "\n",
    "# input parameters\n",
    "map_name = 'SaoPaulo'  # Nuerburgring,  SaoPaulo\n",
    "lap_number = 2  # 1 - faster, 2 - slower\n",
    "friction = '1-1'  # '1-1' - mu_x = 1.1, '0-7' - mu_x = 0.7\n",
    "\n",
    "# visualization\n",
    "with open('dataset_%s_%s_lap%s.json' % (friction, map_name, lap_number), 'r') as f:\n",
    "    data = json.load(f)"
   ]
  },
  {
   "cell_type": "code",
   "execution_count": 2,
   "id": "08533b7e-6dd8-4f66-a0ee-7f52901d3263",
   "metadata": {},
   "outputs": [],
   "source": [
    "# %%\n",
    "timestep = 0.01\n",
    "assert(data['time'][1] - data['time'][0] - timestep < 0.001)\n",
    "x = torch.tensor(data['x'])\n",
    "y = torch.tensor(data['y'])\n",
    "yaw = torch.tensor(data['yaw'])\n",
    "vx = torch.tensor(data['vx'])\n",
    "vy = torch.tensor(data['vy'])\n",
    "yaw_rate = torch.tensor(data['yaw_rate'])\n",
    "steer_angle = torch.tensor(data['steer_angle'])\n",
    "drive_force = torch.tensor(data['drive_force'])\n",
    "steer_speed = torch.tensor(data['steer_speed'])"
   ]
  },
  {
   "cell_type": "code",
   "execution_count": 3,
   "id": "f1bff06e-e600-40de-90b0-90375d506c49",
   "metadata": {},
   "outputs": [
    {
     "name": "stdout",
     "output_type": "stream",
     "text": [
      "Inputs size: torch.Size([22486, 2]) | States size: torch.Size([22486, 7])\n"
     ]
    }
   ],
   "source": [
    "# %%\n",
    "initial_state = torch.tensor([x[0],y[0],yaw[0],vx[0],vy[0],yaw_rate[0],steer_angle[0]]).to(DEVICE)\n",
    "control_inputs = torch.vstack([drive_force, steer_speed]).T\n",
    "control_inputs = control_inputs.contiguous().to(DEVICE)\n",
    "output_states = torch.vstack([x, y, yaw, vx, vy, yaw_rate, steer_angle]).T\n",
    "target_states = output_states[1:]\n",
    "target_states = target_states.contiguous().to(DEVICE)\n",
    "\n",
    "print(f\"Inputs size: {control_inputs.shape} | States size: {target_states.shape}\")"
   ]
  },
  {
   "cell_type": "code",
   "execution_count": 5,
   "id": "08140a44-3ba2-4cf4-9cee-5b4f19f6df09",
   "metadata": {},
   "outputs": [
    {
     "name": "stdout",
     "output_type": "stream",
     "text": [
      "Batched Inputs size: torch.Size([2243, 50, 2]) | Batched States size: torch.Size([2243, 50, 7])\n"
     ]
    }
   ],
   "source": [
    "# %%\n",
    "STEP_SIZE=10\n",
    "TICKS_IN_STEP=50\n",
    "state_dims = initial_state.shape[0]\n",
    "input_dims = control_inputs.shape[-1]\n",
    "total_steps = (control_inputs.shape[0]-TICKS_IN_STEP-1)//STEP_SIZE\n",
    "\n",
    "batched_initial_states = torch.zeros((total_steps, state_dims), device=DEVICE)\n",
    "batched_control_inputs = torch.zeros((total_steps, TICKS_IN_STEP, input_dims), device=DEVICE)\n",
    "batched_target_states = torch.zeros((total_steps, TICKS_IN_STEP, state_dims), device=DEVICE)\n",
    "\n",
    "for step in range(total_steps):\n",
    "    batched_initial_states[step] = output_states[step*STEP_SIZE]\n",
    "    batched_control_inputs[step] = control_inputs[step*STEP_SIZE:(step*STEP_SIZE)+TICKS_IN_STEP]\n",
    "    batched_target_states[step] = output_states[(step*STEP_SIZE)+1:(step*STEP_SIZE)+TICKS_IN_STEP+1]\n",
    "\n",
    "print(f\"Batched Inputs size: {batched_control_inputs.shape} | Batched States size: {batched_target_states.shape}\")"
   ]
  },
  {
   "cell_type": "code",
   "execution_count": 6,
   "id": "5ab227b2-be41-45ea-a9eb-b6ee8255028f",
   "metadata": {},
   "outputs": [],
   "source": [
    "# %%\n",
    "dataset = torch.utils.data.TensorDataset(batched_initial_states, batched_control_inputs, batched_target_states)\n",
    "dataloader = torch.utils.data.DataLoader(dataset, batch_size=1024, shuffle=True)"
   ]
  },
  {
   "cell_type": "code",
   "execution_count": 23,
   "id": "23127af9-b070-460f-aae6-1b81dbc07756",
   "metadata": {},
   "outputs": [
    {
     "data": {
      "text/plain": [
       "RK4(\n",
       "  (dynamics): DynamicBicycle()\n",
       ")"
      ]
     },
     "execution_count": 23,
     "metadata": {},
     "output_type": "execute_result"
    }
   ],
   "source": [
    "# %%\n",
    "params = {\n",
    "    # axes distances\n",
    "    'lf': 0.88392,  # distance from spring mass center of gravity to front axle [m]  LENA\n",
    "    'lr': 1.50876,  # distance from spring mass center of gravity to rear axle [m]  LENB\n",
    "\n",
    "    # moments of inertia of sprung mass\n",
    "    # masses\n",
    "    'Iz': 1538.853371,  # moment of inertia for sprung mass in yaw [kg m^2]  IZZ\n",
    "    'mass': 1225.887,  # vehicle mass [kg]  MASS\n",
    "\n",
    "    # Pacejka tire force parameters\n",
    "    'Df': 3709.08227,  # [rad/m]  DF\n",
    "    'Cf': 1.3507,\n",
    "    'Bf': 16.2216,\n",
    "    'Dr': 3709.08227,  # [rad/m]  DR\n",
    "    'Cr': 1.3507,\n",
    "    'Br': 16.2216,\n",
    "    'Cm': 0.3777,\n",
    "    'Cr0': 2.1469,\n",
    "    'Cr2': 0.0,\n",
    "}\n",
    "params.update({\n",
    "    \"lf\" : 0.8839200139045715,\n",
    "\t\"lr\" : 1.5087599754333496,\n",
    "\t\"Iz\" : 1538.8533935546875,\n",
    "\t\"mass\" : 1225.8848876953125,\n",
    "\t\"Df\" : 3709.082275390625,\n",
    "\t\"Cf\" : 3.462254762649536,\n",
    "\t\"Bf\" : 16.504972457885742,\n",
    "\t\"Dr\" : 3709.082275390625,\n",
    "\t\"Cr\" : 2.0830910205841064,\n",
    "\t\"Br\" : 16.302648544311523,\n",
    "\t\"Cm\" : 0.9561037421226501,\n",
    "\t\"Cr0\" : 2.1423134803771973,\n",
    "\t\"Cr2\" : -0.010570406913757324,\n",
    "})\n",
    "dynamics = DynamicBicycle(**params)\n",
    "#dynamics = torch.load(\"fitted_model.pt\")\n",
    "# <---- FIX PHYSICAL PARAMS     ---->\n",
    "dynamics.lf.requires_grad = False\n",
    "dynamics.lr.requires_grad = False\n",
    "dynamics.mass.requires_grad = True\n",
    "dynamics.Iz.requires_grad = True\n",
    "dynamics.Df.requires_grad = True\n",
    "dynamics.Cf.requires_grad = True\n",
    "dynamics.Bf.requires_grad = True\n",
    "dynamics.Dr.requires_grad = True\n",
    "dynamics.Cr.requires_grad = True\n",
    "dynamics.Br.requires_grad = True\n",
    "dynamics.Cm.requires_grad = True\n",
    "dynamics.Cr0.requires_grad = True\n",
    "dynamics.Cr2.requires_grad = True\n",
    "# <----                         ---->\n",
    "euler_integrator = Euler(dynamics, timestep=timestep)\n",
    "euler_integrator.to(DEVICE)\n",
    "rk4_integrator = RK4(dynamics=dynamics, timestep=timestep)\n",
    "rk4_integrator.to(DEVICE)\n"
   ]
  },
  {
   "cell_type": "code",
   "execution_count": 24,
   "id": "0b38948a-c342-4f63-9bef-441340e44d13",
   "metadata": {},
   "outputs": [],
   "source": [
    "with torch.no_grad():\n",
    "    euler_output_states = euler_integrator(initial_state, control_inputs)\n"
   ]
  },
  {
   "cell_type": "code",
   "execution_count": 25,
   "id": "a5de72b9-6790-4036-8698-9c0516024cd2",
   "metadata": {},
   "outputs": [
    {
     "data": {
      "text/plain": [
       "<matplotlib.legend.Legend at 0x11c97fdd0>"
      ]
     },
     "execution_count": 25,
     "metadata": {},
     "output_type": "execute_result"
    },
    {
     "data": {
      "image/png": "[encoded data removed]",
      "text/plain": [
       "<Figure size 1000x1000 with 1 Axes>"
      ]
     },
     "metadata": {},
     "output_type": "display_data"
    }
   ],
   "source": [
    "# %%\n",
    "fig, ax = plt.subplots(1, 1, figsize=(10,10))\n",
    "LEN=20000\n",
    "ax.plot(target_states[:LEN, 0].cpu().numpy(), target_states[:LEN, 1].cpu().numpy(), label=\"Target\")\n",
    "ax.plot(euler_output_states[:LEN, 0].detach().cpu().numpy(), euler_output_states[:LEN, 1].detach().cpu().numpy(), label=\"Euler Prediction\")\n",
    "#ax.plot(rk4_output_states[:LEN, 0].detach().cpu().numpy(), rk4_output_states[:LEN, 1].detach().cpu().numpy(), label=\"RK4 Prediction\")\n",
    "ax.set_aspect(1.0)\n",
    "ax.legend()"
   ]
  },
  {
   "cell_type": "code",
   "execution_count": 26,
   "id": "359d3e70-0bca-4c7b-92d3-e90f0122dde2",
   "metadata": {
    "tags": []
   },
   "outputs": [
    {
     "name": "stdout",
     "output_type": "stream",
     "text": [
      "Initialized | Validation Loss: 4.108921527862549 | LR: 1\n"
     ]
    },
    {
     "name": "stderr",
     "output_type": "stream",
     "text": [
      "  1%|          | 1/100 [00:01<03:00,  1.83s/it]"
     ]
    },
    {
     "name": "stdout",
     "output_type": "stream",
     "text": [
      "Epoch: 0 | Training Loss: 0.010483800433576107 | Validation Loss: 0.013307969085872173 | LR: 1\n"
     ]
    },
    {
     "name": "stderr",
     "output_type": "stream",
     "text": [
      "  2%|▏         | 2/100 [00:03<02:39,  1.62s/it]"
     ]
    },
    {
     "name": "stdout",
     "output_type": "stream",
     "text": [
      "Epoch: 1 | Training Loss: 0.013066355139017105 | Validation Loss: 0.013309493660926819 | LR: 1\n"
     ]
    },
    {
     "name": "stderr",
     "output_type": "stream",
     "text": [
      "  3%|▎         | 3/100 [00:04<02:13,  1.37s/it]"
     ]
    },
    {
     "name": "stdout",
     "output_type": "stream",
     "text": [
      "Epoch: 2 | Training Loss: 0.0063818893395364285 | Validation Loss: 0.013307862915098667 | LR: 1\n"
     ]
    },
    {
     "name": "stderr",
     "output_type": "stream",
     "text": [
      "  4%|▍         | 4/100 [00:05<01:56,  1.21s/it]"
     ]
    },
    {
     "name": "stdout",
     "output_type": "stream",
     "text": [
      "Epoch: 3 | Training Loss: 0.010290703736245632 | Validation Loss: 0.013308409601449966 | LR: 1\n"
     ]
    },
    {
     "name": "stderr",
     "output_type": "stream",
     "text": [
      "  5%|▌         | 5/100 [00:06<01:50,  1.16s/it]"
     ]
    },
    {
     "name": "stdout",
     "output_type": "stream",
     "text": [
      "Epoch: 4 | Training Loss: 0.010090772062540054 | Validation Loss: 0.013308057561516762 | LR: 1\n"
     ]
    },
    {
     "name": "stderr",
     "output_type": "stream",
     "text": [
      "  6%|▌         | 6/100 [00:07<01:41,  1.08s/it]"
     ]
    },
    {
     "name": "stdout",
     "output_type": "stream",
     "text": [
      "Epoch: 5 | Training Loss: 0.006283552851527929 | Validation Loss: 0.013308246619999409 | LR: 1\n"
     ]
    },
    {
     "name": "stderr",
     "output_type": "stream",
     "text": [
      "  7%|▋         | 7/100 [00:08<01:34,  1.02s/it]"
     ]
    },
    {
     "name": "stdout",
     "output_type": "stream",
     "text": [
      "Epoch: 6 | Training Loss: 0.020820194855332375 | Validation Loss: 0.013310052454471588 | LR: 1\n"
     ]
    },
    {
     "name": "stderr",
     "output_type": "stream",
     "text": [
      "  8%|▊         | 8/100 [00:09<01:31,  1.01it/s]"
     ]
    },
    {
     "name": "stdout",
     "output_type": "stream",
     "text": [
      "Epoch: 7 | Training Loss: 0.010652396827936172 | Validation Loss: 0.013308333232998848 | LR: 1\n"
     ]
    },
    {
     "name": "stderr",
     "output_type": "stream",
     "text": [
      "  9%|▉         | 9/100 [00:10<01:32,  1.02s/it]"
     ]
    },
    {
     "name": "stdout",
     "output_type": "stream",
     "text": [
      "Epoch: 8 | Training Loss: 0.010718842037022114 | Validation Loss: 0.013309553265571594 | LR: 1\n"
     ]
    },
    {
     "name": "stderr",
     "output_type": "stream",
     "text": [
      " 10%|█         | 10/100 [00:11<01:28,  1.02it/s]"
     ]
    },
    {
     "name": "stdout",
     "output_type": "stream",
     "text": [
      "Epoch: 9 | Training Loss: 0.01856227032840252 | Validation Loss: 0.013315566815435886 | LR: 1\n"
     ]
    },
    {
     "name": "stderr",
     "output_type": "stream",
     "text": [
      " 11%|█         | 11/100 [00:12<01:25,  1.04it/s]"
     ]
    },
    {
     "name": "stdout",
     "output_type": "stream",
     "text": [
      "Epoch: 10 | Training Loss: 0.018644435331225395 | Validation Loss: 0.013308461755514145 | LR: 1\n"
     ]
    },
    {
     "name": "stderr",
     "output_type": "stream",
     "text": [
      " 12%|█▏        | 12/100 [00:12<01:23,  1.05it/s]"
     ]
    },
    {
     "name": "stdout",
     "output_type": "stream",
     "text": [
      "Epoch: 11 | Training Loss: 0.006015941500663757 | Validation Loss: 0.01331085991114378 | LR: 1\n"
     ]
    },
    {
     "name": "stderr",
     "output_type": "stream",
     "text": [
      " 13%|█▎        | 13/100 [00:13<01:22,  1.05it/s]"
     ]
    },
    {
     "name": "stdout",
     "output_type": "stream",
     "text": [
      "Epoch: 12 | Training Loss: 0.010485486127436161 | Validation Loss: 0.013308821246027946 | LR: 0.9\n"
     ]
    },
    {
     "name": "stderr",
     "output_type": "stream",
     "text": [
      " 14%|█▍        | 14/100 [00:14<01:20,  1.06it/s]"
     ]
    },
    {
     "name": "stdout",
     "output_type": "stream",
     "text": [
      "Epoch: 13 | Training Loss: 0.0170464888215065 | Validation Loss: 0.013308544643223286 | LR: 0.9\n"
     ]
    },
    {
     "name": "stderr",
     "output_type": "stream",
     "text": [
      " 15%|█▌        | 15/100 [00:15<01:23,  1.02it/s]"
     ]
    },
    {
     "name": "stdout",
     "output_type": "stream",
     "text": [
      "Epoch: 14 | Training Loss: 0.011396575719118118 | Validation Loss: 0.013308313675224781 | LR: 0.9\n"
     ]
    },
    {
     "name": "stderr",
     "output_type": "stream",
     "text": [
      " 16%|█▌        | 16/100 [00:16<01:19,  1.05it/s]"
     ]
    },
    {
     "name": "stdout",
     "output_type": "stream",
     "text": [
      "Epoch: 15 | Training Loss: 0.007222714368253946 | Validation Loss: 0.01330802496522665 | LR: 0.9\n"
     ]
    },
    {
     "name": "stderr",
     "output_type": "stream",
     "text": [
      " 17%|█▋        | 17/100 [00:17<01:17,  1.07it/s]"
     ]
    },
    {
     "name": "stdout",
     "output_type": "stream",
     "text": [
      "Epoch: 16 | Training Loss: 0.02055060677230358 | Validation Loss: 0.013309448026120663 | LR: 0.9\n"
     ]
    },
    {
     "name": "stderr",
     "output_type": "stream",
     "text": [
      " 18%|█▊        | 18/100 [00:18<01:15,  1.09it/s]"
     ]
    },
    {
     "name": "stdout",
     "output_type": "stream",
     "text": [
      "Epoch: 17 | Training Loss: 0.012491470202803612 | Validation Loss: 0.01330854743719101 | LR: 0.9\n"
     ]
    },
    {
     "name": "stderr",
     "output_type": "stream",
     "text": [
      " 19%|█▉        | 19/100 [00:19<01:14,  1.09it/s]"
     ]
    },
    {
     "name": "stdout",
     "output_type": "stream",
     "text": [
      "Epoch: 18 | Training Loss: 0.017072584480047226 | Validation Loss: 0.013308239169418812 | LR: 0.9\n"
     ]
    },
    {
     "name": "stderr",
     "output_type": "stream",
     "text": [
      " 20%|██        | 20/100 [00:20<01:14,  1.07it/s]"
     ]
    },
    {
     "name": "stdout",
     "output_type": "stream",
     "text": [
      "Epoch: 19 | Training Loss: 0.013164003379642963 | Validation Loss: 0.013307935558259487 | LR: 0.9\n"
     ]
    },
    {
     "name": "stderr",
     "output_type": "stream",
     "text": [
      " 21%|██        | 21/100 [00:21<01:14,  1.06it/s]"
     ]
    },
    {
     "name": "stdout",
     "output_type": "stream",
     "text": [
      "Epoch: 20 | Training Loss: 0.026228338479995728 | Validation Loss: 0.013308952562510967 | LR: 0.9\n"
     ]
    },
    {
     "name": "stderr",
     "output_type": "stream",
     "text": [
      " 22%|██▏       | 22/100 [00:22<01:12,  1.07it/s]"
     ]
    },
    {
     "name": "stdout",
     "output_type": "stream",
     "text": [
      "Epoch: 21 | Training Loss: 0.008587656542658806 | Validation Loss: 0.013310408219695091 | LR: 0.9\n"
     ]
    },
    {
     "name": "stderr",
     "output_type": "stream",
     "text": [
      " 23%|██▎       | 23/100 [00:23<01:11,  1.08it/s]"
     ]
    },
    {
     "name": "stdout",
     "output_type": "stream",
     "text": [
      "Epoch: 22 | Training Loss: 0.022847484797239304 | Validation Loss: 0.013309192843735218 | LR: 0.9\n"
     ]
    },
    {
     "name": "stderr",
     "output_type": "stream",
     "text": [
      " 24%|██▍       | 24/100 [00:24<01:10,  1.08it/s]"
     ]
    },
    {
     "name": "stdout",
     "output_type": "stream",
     "text": [
      "Epoch: 23 | Training Loss: 0.017986485734581947 | Validation Loss: 0.013309555128216743 | LR: 0.81\n"
     ]
    },
    {
     "name": "stderr",
     "output_type": "stream",
     "text": [
      " 25%|██▌       | 25/100 [00:25<01:13,  1.03it/s]"
     ]
    },
    {
     "name": "stdout",
     "output_type": "stream",
     "text": [
      "Epoch: 24 | Training Loss: 0.01825558766722679 | Validation Loss: 0.01330817025154829 | LR: 0.81\n"
     ]
    },
    {
     "name": "stderr",
     "output_type": "stream",
     "text": [
      " 26%|██▌       | 26/100 [00:26<01:10,  1.05it/s]"
     ]
    },
    {
     "name": "stdout",
     "output_type": "stream",
     "text": [
      "Epoch: 25 | Training Loss: 0.010066209360957146 | Validation Loss: 0.013309411704540253 | LR: 0.81\n"
     ]
    },
    {
     "name": "stderr",
     "output_type": "stream",
     "text": [
      " 27%|██▋       | 27/100 [00:27<01:07,  1.08it/s]"
     ]
    },
    {
     "name": "stdout",
     "output_type": "stream",
     "text": [
      "Epoch: 26 | Training Loss: 0.010005476884543896 | Validation Loss: 0.013308441266417503 | LR: 0.81\n"
     ]
    },
    {
     "name": "stderr",
     "output_type": "stream",
     "text": [
      " 28%|██▊       | 28/100 [00:27<01:06,  1.08it/s]"
     ]
    },
    {
     "name": "stdout",
     "output_type": "stream",
     "text": [
      "Epoch: 27 | Training Loss: 0.025624660775065422 | Validation Loss: 0.013309625908732414 | LR: 0.81\n"
     ]
    },
    {
     "name": "stderr",
     "output_type": "stream",
     "text": [
      " 29%|██▉       | 29/100 [00:28<01:04,  1.10it/s]"
     ]
    },
    {
     "name": "stdout",
     "output_type": "stream",
     "text": [
      "Epoch: 28 | Training Loss: 0.009152613580226898 | Validation Loss: 0.013308006338775158 | LR: 0.81\n"
     ]
    },
    {
     "name": "stderr",
     "output_type": "stream",
     "text": [
      " 30%|███       | 30/100 [00:29<01:03,  1.10it/s]"
     ]
    },
    {
     "name": "stdout",
     "output_type": "stream",
     "text": [
      "Epoch: 29 | Training Loss: 0.008895600214600563 | Validation Loss: 0.013308482244610786 | LR: 0.81\n"
     ]
    },
    {
     "name": "stderr",
     "output_type": "stream",
     "text": [
      " 31%|███       | 31/100 [00:30<01:02,  1.10it/s]"
     ]
    },
    {
     "name": "stdout",
     "output_type": "stream",
     "text": [
      "Epoch: 30 | Training Loss: 0.00918614398688078 | Validation Loss: 0.013308363035321236 | LR: 0.81\n"
     ]
    },
    {
     "name": "stderr",
     "output_type": "stream",
     "text": [
      " 32%|███▏      | 32/100 [00:31<01:01,  1.10it/s]"
     ]
    },
    {
     "name": "stdout",
     "output_type": "stream",
     "text": [
      "Epoch: 31 | Training Loss: 0.012235392816364765 | Validation Loss: 0.013307866640388966 | LR: 0.81\n"
     ]
    },
    {
     "name": "stderr",
     "output_type": "stream",
     "text": [
      " 33%|███▎      | 33/100 [00:32<01:00,  1.11it/s]"
     ]
    },
    {
     "name": "stdout",
     "output_type": "stream",
     "text": [
      "Epoch: 32 | Training Loss: 0.007174105383455753 | Validation Loss: 0.013307880610227585 | LR: 0.81\n"
     ]
    },
    {
     "name": "stderr",
     "output_type": "stream",
     "text": [
      " 34%|███▍      | 34/100 [00:33<00:59,  1.11it/s]"
     ]
    },
    {
     "name": "stdout",
     "output_type": "stream",
     "text": [
      "Epoch: 33 | Training Loss: 0.006958488840609789 | Validation Loss: 0.013307987712323666 | LR: 0.81\n"
     ]
    },
    {
     "name": "stderr",
     "output_type": "stream",
     "text": [
      " 35%|███▌      | 35/100 [00:34<01:05,  1.00s/it]"
     ]
    },
    {
     "name": "stdout",
     "output_type": "stream",
     "text": [
      "Epoch: 34 | Training Loss: 0.01232365146279335 | Validation Loss: 0.013307969085872173 | LR: 0.7290000000000001\n"
     ]
    },
    {
     "name": "stderr",
     "output_type": "stream",
     "text": [
      " 36%|███▌      | 36/100 [00:35<01:01,  1.03it/s]"
     ]
    },
    {
     "name": "stdout",
     "output_type": "stream",
     "text": [
      "Epoch: 35 | Training Loss: 0.01281755231320858 | Validation Loss: 0.013307840563356876 | LR: 0.7290000000000001\n"
     ]
    },
    {
     "name": "stderr",
     "output_type": "stream",
     "text": [
      " 37%|███▋      | 37/100 [00:36<00:59,  1.05it/s]"
     ]
    },
    {
     "name": "stdout",
     "output_type": "stream",
     "text": [
      "Epoch: 36 | Training Loss: 0.01413414254784584 | Validation Loss: 0.013308793306350708 | LR: 0.7290000000000001\n"
     ]
    },
    {
     "name": "stderr",
     "output_type": "stream",
     "text": [
      " 38%|███▊      | 38/100 [00:37<00:57,  1.08it/s]"
     ]
    },
    {
     "name": "stdout",
     "output_type": "stream",
     "text": [
      "Epoch: 37 | Training Loss: 0.012083937413990498 | Validation Loss: 0.01330927200615406 | LR: 0.7290000000000001\n"
     ]
    },
    {
     "name": "stderr",
     "output_type": "stream",
     "text": [
      " 39%|███▉      | 39/100 [00:38<00:56,  1.09it/s]"
     ]
    },
    {
     "name": "stdout",
     "output_type": "stream",
     "text": [
      "Epoch: 38 | Training Loss: 0.018029462546110153 | Validation Loss: 0.013308189809322357 | LR: 0.7290000000000001\n"
     ]
    },
    {
     "name": "stderr",
     "output_type": "stream",
     "text": [
      " 40%|████      | 40/100 [00:39<00:59,  1.01it/s]"
     ]
    },
    {
     "name": "stdout",
     "output_type": "stream",
     "text": [
      "Epoch: 39 | Training Loss: 0.014065338298678398 | Validation Loss: 0.013308858498930931 | LR: 0.7290000000000001\n"
     ]
    },
    {
     "name": "stderr",
     "output_type": "stream",
     "text": [
      " 41%|████      | 41/100 [00:40<00:56,  1.04it/s]"
     ]
    },
    {
     "name": "stdout",
     "output_type": "stream",
     "text": [
      "Epoch: 40 | Training Loss: 0.006276439409703016 | Validation Loss: 0.01330911461263895 | LR: 0.7290000000000001\n"
     ]
    },
    {
     "name": "stderr",
     "output_type": "stream",
     "text": [
      " 42%|████▏     | 42/100 [00:41<00:54,  1.07it/s]"
     ]
    },
    {
     "name": "stdout",
     "output_type": "stream",
     "text": [
      "Epoch: 41 | Training Loss: 0.016599176451563835 | Validation Loss: 0.013308937661349773 | LR: 0.7290000000000001\n"
     ]
    },
    {
     "name": "stderr",
     "output_type": "stream",
     "text": [
      " 43%|████▎     | 43/100 [00:41<00:52,  1.08it/s]"
     ]
    },
    {
     "name": "stdout",
     "output_type": "stream",
     "text": [
      "Epoch: 42 | Training Loss: 0.01599014550447464 | Validation Loss: 0.013307959772646427 | LR: 0.7290000000000001\n"
     ]
    },
    {
     "name": "stderr",
     "output_type": "stream",
     "text": [
      " 44%|████▍     | 44/100 [00:42<00:51,  1.09it/s]"
     ]
    },
    {
     "name": "stdout",
     "output_type": "stream",
     "text": [
      "Epoch: 43 | Training Loss: 0.012066518887877464 | Validation Loss: 0.013309684582054615 | LR: 0.7290000000000001\n"
     ]
    },
    {
     "name": "stderr",
     "output_type": "stream",
     "text": [
      " 45%|████▌     | 45/100 [00:43<00:51,  1.08it/s]"
     ]
    },
    {
     "name": "stdout",
     "output_type": "stream",
     "text": [
      "Epoch: 44 | Training Loss: 0.005901239812374115 | Validation Loss: 0.013309014029800892 | LR: 0.7290000000000001\n"
     ]
    },
    {
     "name": "stderr",
     "output_type": "stream",
     "text": [
      " 46%|████▌     | 46/100 [00:45<00:54,  1.01s/it]"
     ]
    },
    {
     "name": "stdout",
     "output_type": "stream",
     "text": [
      "Epoch: 45 | Training Loss: 0.006129713263362646 | Validation Loss: 0.013309244066476822 | LR: 0.6561000000000001\n"
     ]
    },
    {
     "name": "stderr",
     "output_type": "stream",
     "text": [
      " 47%|████▋     | 47/100 [00:46<01:05,  1.23s/it]"
     ]
    },
    {
     "name": "stdout",
     "output_type": "stream",
     "text": [
      "Epoch: 46 | Training Loss: 0.012060173787176609 | Validation Loss: 0.013308308087289333 | LR: 0.6561000000000001\n"
     ]
    },
    {
     "name": "stderr",
     "output_type": "stream",
     "text": [
      " 48%|████▊     | 48/100 [00:48<01:05,  1.27s/it]"
     ]
    },
    {
     "name": "stdout",
     "output_type": "stream",
     "text": [
      "Epoch: 47 | Training Loss: 0.012407210655510426 | Validation Loss: 0.013308621942996979 | LR: 0.6561000000000001\n"
     ]
    },
    {
     "name": "stderr",
     "output_type": "stream",
     "text": [
      " 49%|████▉     | 49/100 [00:49<00:59,  1.18s/it]"
     ]
    },
    {
     "name": "stdout",
     "output_type": "stream",
     "text": [
      "Epoch: 48 | Training Loss: 0.013736002147197723 | Validation Loss: 0.013308954425156116 | LR: 0.6561000000000001\n"
     ]
    },
    {
     "name": "stderr",
     "output_type": "stream",
     "text": [
      " 50%|█████     | 50/100 [00:50<00:55,  1.11s/it]"
     ]
    },
    {
     "name": "stdout",
     "output_type": "stream",
     "text": [
      "Epoch: 49 | Training Loss: 0.010890219360589981 | Validation Loss: 0.01330815814435482 | LR: 0.6561000000000001\n"
     ]
    },
    {
     "name": "stderr",
     "output_type": "stream",
     "text": [
      " 51%|█████     | 51/100 [00:50<00:51,  1.04s/it]"
     ]
    },
    {
     "name": "stdout",
     "output_type": "stream",
     "text": [
      "Epoch: 50 | Training Loss: 0.013488785363733768 | Validation Loss: 0.013308008201420307 | LR: 0.6561000000000001\n"
     ]
    },
    {
     "name": "stderr",
     "output_type": "stream",
     "text": [
      " 52%|█████▏    | 52/100 [00:51<00:50,  1.05s/it]"
     ]
    },
    {
     "name": "stdout",
     "output_type": "stream",
     "text": [
      "Epoch: 51 | Training Loss: 0.006159327924251556 | Validation Loss: 0.013308054767549038 | LR: 0.6561000000000001\n"
     ]
    },
    {
     "name": "stderr",
     "output_type": "stream",
     "text": [
      " 53%|█████▎    | 53/100 [00:53<00:49,  1.04s/it]"
     ]
    },
    {
     "name": "stdout",
     "output_type": "stream",
     "text": [
      "Epoch: 52 | Training Loss: 0.013567128218710423 | Validation Loss: 0.0133088119328022 | LR: 0.6561000000000001\n"
     ]
    },
    {
     "name": "stderr",
     "output_type": "stream",
     "text": [
      " 54%|█████▍    | 54/100 [00:53<00:46,  1.02s/it]"
     ]
    },
    {
     "name": "stdout",
     "output_type": "stream",
     "text": [
      "Epoch: 53 | Training Loss: 0.02004397287964821 | Validation Loss: 0.013308556750416756 | LR: 0.6561000000000001\n"
     ]
    },
    {
     "name": "stderr",
     "output_type": "stream",
     "text": [
      " 55%|█████▌    | 55/100 [00:54<00:44,  1.02it/s]"
     ]
    },
    {
     "name": "stdout",
     "output_type": "stream",
     "text": [
      "Epoch: 54 | Training Loss: 0.011997170746326447 | Validation Loss: 0.013308094814419746 | LR: 0.6561000000000001\n"
     ]
    },
    {
     "name": "stderr",
     "output_type": "stream",
     "text": [
      " 56%|█████▌    | 56/100 [00:55<00:43,  1.00it/s]"
     ]
    },
    {
     "name": "stdout",
     "output_type": "stream",
     "text": [
      "Epoch: 55 | Training Loss: 0.011866793967783451 | Validation Loss: 0.013308651745319366 | LR: 0.6561000000000001\n"
     ]
    },
    {
     "name": "stderr",
     "output_type": "stream",
     "text": [
      " 57%|█████▋    | 57/100 [00:56<00:41,  1.04it/s]"
     ]
    },
    {
     "name": "stdout",
     "output_type": "stream",
     "text": [
      "Epoch: 56 | Training Loss: 0.015981996431946754 | Validation Loss: 0.01330901961773634 | LR: 0.5904900000000002\n"
     ]
    },
    {
     "name": "stderr",
     "output_type": "stream",
     "text": [
      " 58%|█████▊    | 58/100 [00:57<00:40,  1.05it/s]"
     ]
    },
    {
     "name": "stdout",
     "output_type": "stream",
     "text": [
      "Epoch: 57 | Training Loss: 0.010510356165468693 | Validation Loss: 0.013307977467775345 | LR: 0.5904900000000002\n"
     ]
    },
    {
     "name": "stderr",
     "output_type": "stream",
     "text": [
      " 59%|█████▉    | 59/100 [00:58<00:38,  1.07it/s]"
     ]
    },
    {
     "name": "stdout",
     "output_type": "stream",
     "text": [
      "Epoch: 58 | Training Loss: 0.010398466140031815 | Validation Loss: 0.01330826710909605 | LR: 0.5904900000000002\n"
     ]
    },
    {
     "name": "stderr",
     "output_type": "stream",
     "text": [
      " 60%|██████    | 60/100 [00:59<00:36,  1.09it/s]"
     ]
    },
    {
     "name": "stdout",
     "output_type": "stream",
     "text": [
      "Epoch: 59 | Training Loss: 0.0070664850063622 | Validation Loss: 0.013308017514646053 | LR: 0.5904900000000002\n"
     ]
    },
    {
     "name": "stderr",
     "output_type": "stream",
     "text": [
      " 61%|██████    | 61/100 [01:00<00:35,  1.09it/s]"
     ]
    },
    {
     "name": "stdout",
     "output_type": "stream",
     "text": [
      "Epoch: 60 | Training Loss: 0.01334705762565136 | Validation Loss: 0.013308004476130009 | LR: 0.5904900000000002\n"
     ]
    },
    {
     "name": "stderr",
     "output_type": "stream",
     "text": [
      " 62%|██████▏   | 62/100 [01:01<00:34,  1.10it/s]"
     ]
    },
    {
     "name": "stdout",
     "output_type": "stream",
     "text": [
      "Epoch: 61 | Training Loss: 0.01329473964869976 | Validation Loss: 0.013308562338352203 | LR: 0.5904900000000002\n"
     ]
    },
    {
     "name": "stderr",
     "output_type": "stream",
     "text": [
      " 63%|██████▎   | 63/100 [01:02<00:33,  1.09it/s]"
     ]
    },
    {
     "name": "stdout",
     "output_type": "stream",
     "text": [
      "Epoch: 62 | Training Loss: 0.006353756412863731 | Validation Loss: 0.01330988947302103 | LR: 0.5904900000000002\n"
     ]
    },
    {
     "name": "stderr",
     "output_type": "stream",
     "text": [
      " 64%|██████▍   | 64/100 [01:03<00:32,  1.11it/s]"
     ]
    },
    {
     "name": "stdout",
     "output_type": "stream",
     "text": [
      "Epoch: 63 | Training Loss: 0.014808795414865017 | Validation Loss: 0.013307981193065643 | LR: 0.5904900000000002\n"
     ]
    },
    {
     "name": "stderr",
     "output_type": "stream",
     "text": [
      " 65%|██████▌   | 65/100 [01:03<00:31,  1.11it/s]"
     ]
    },
    {
     "name": "stdout",
     "output_type": "stream",
     "text": [
      "Epoch: 64 | Training Loss: 0.013464870862662792 | Validation Loss: 0.013308617286384106 | LR: 0.5904900000000002\n"
     ]
    },
    {
     "name": "stderr",
     "output_type": "stream",
     "text": [
      " 66%|██████▌   | 66/100 [01:05<00:33,  1.02it/s]"
     ]
    },
    {
     "name": "stdout",
     "output_type": "stream",
     "text": [
      "Epoch: 65 | Training Loss: 0.01930922083556652 | Validation Loss: 0.013307958841323853 | LR: 0.5904900000000002\n"
     ]
    },
    {
     "name": "stderr",
     "output_type": "stream",
     "text": [
      " 67%|██████▋   | 67/100 [01:06<00:31,  1.05it/s]"
     ]
    },
    {
     "name": "stdout",
     "output_type": "stream",
     "text": [
      "Epoch: 66 | Training Loss: 0.012241293676197529 | Validation Loss: 0.013307911343872547 | LR: 0.5904900000000002\n"
     ]
    },
    {
     "name": "stderr",
     "output_type": "stream",
     "text": [
      " 68%|██████▊   | 68/100 [01:06<00:29,  1.08it/s]"
     ]
    },
    {
     "name": "stdout",
     "output_type": "stream",
     "text": [
      "Epoch: 67 | Training Loss: 0.010158518329262733 | Validation Loss: 0.013308006338775158 | LR: 0.5314410000000002\n"
     ]
    },
    {
     "name": "stderr",
     "output_type": "stream",
     "text": [
      " 69%|██████▉   | 69/100 [01:07<00:28,  1.10it/s]"
     ]
    },
    {
     "name": "stdout",
     "output_type": "stream",
     "text": [
      "Epoch: 68 | Training Loss: 0.009700140915811062 | Validation Loss: 0.013307955116033554 | LR: 0.5314410000000002\n"
     ]
    },
    {
     "name": "stderr",
     "output_type": "stream",
     "text": [
      " 70%|███████   | 70/100 [01:08<00:26,  1.11it/s]"
     ]
    },
    {
     "name": "stdout",
     "output_type": "stream",
     "text": [
      "Epoch: 69 | Training Loss: 0.011143045499920845 | Validation Loss: 0.013308463618159294 | LR: 0.5314410000000002\n"
     ]
    },
    {
     "name": "stderr",
     "output_type": "stream",
     "text": [
      " 71%|███████   | 71/100 [01:09<00:25,  1.13it/s]"
     ]
    },
    {
     "name": "stdout",
     "output_type": "stream",
     "text": [
      "Epoch: 70 | Training Loss: 0.012254301458597183 | Validation Loss: 0.013308132998645306 | LR: 0.5314410000000002\n"
     ]
    },
    {
     "name": "stderr",
     "output_type": "stream",
     "text": [
      " 72%|███████▏  | 72/100 [01:10<00:26,  1.04it/s]"
     ]
    },
    {
     "name": "stdout",
     "output_type": "stream",
     "text": [
      "Epoch: 71 | Training Loss: 0.012647422961890697 | Validation Loss: 0.01330785546451807 | LR: 0.5314410000000002\n"
     ]
    },
    {
     "name": "stderr",
     "output_type": "stream",
     "text": [
      " 73%|███████▎  | 73/100 [01:11<00:24,  1.08it/s]"
     ]
    },
    {
     "name": "stdout",
     "output_type": "stream",
     "text": [
      "Epoch: 72 | Training Loss: 0.007336893118917942 | Validation Loss: 0.01330801472067833 | LR: 0.5314410000000002\n"
     ]
    },
    {
     "name": "stderr",
     "output_type": "stream",
     "text": [
      " 74%|███████▍  | 74/100 [01:12<00:23,  1.10it/s]"
     ]
    },
    {
     "name": "stdout",
     "output_type": "stream",
     "text": [
      "Epoch: 73 | Training Loss: 0.012542882934212685 | Validation Loss: 0.013309033587574959 | LR: 0.5314410000000002\n"
     ]
    },
    {
     "name": "stderr",
     "output_type": "stream",
     "text": [
      " 75%|███████▌  | 75/100 [01:13<00:23,  1.07it/s]"
     ]
    },
    {
     "name": "stdout",
     "output_type": "stream",
     "text": [
      "Epoch: 74 | Training Loss: 0.02357052080333233 | Validation Loss: 0.013308262452483177 | LR: 0.5314410000000002\n"
     ]
    },
    {
     "name": "stderr",
     "output_type": "stream",
     "text": [
      " 76%|███████▌  | 76/100 [01:14<00:23,  1.04it/s]"
     ]
    },
    {
     "name": "stdout",
     "output_type": "stream",
     "text": [
      "Epoch: 75 | Training Loss: 0.009406630881130695 | Validation Loss: 0.013308444991707802 | LR: 0.5314410000000002\n"
     ]
    },
    {
     "name": "stderr",
     "output_type": "stream",
     "text": [
      " 77%|███████▋  | 77/100 [01:15<00:21,  1.07it/s]"
     ]
    },
    {
     "name": "stdout",
     "output_type": "stream",
     "text": [
      "Epoch: 76 | Training Loss: 0.014122332446277142 | Validation Loss: 0.013309451751410961 | LR: 0.5314410000000002\n"
     ]
    },
    {
     "name": "stderr",
     "output_type": "stream",
     "text": [
      " 78%|███████▊  | 78/100 [01:16<00:20,  1.08it/s]"
     ]
    },
    {
     "name": "stdout",
     "output_type": "stream",
     "text": [
      "Epoch: 77 | Training Loss: 0.024400873109698296 | Validation Loss: 0.013308333232998848 | LR: 0.5314410000000002\n"
     ]
    },
    {
     "name": "stderr",
     "output_type": "stream",
     "text": [
      " 79%|███████▉  | 79/100 [01:17<00:19,  1.10it/s]"
     ]
    },
    {
     "name": "stdout",
     "output_type": "stream",
     "text": [
      "Epoch: 78 | Training Loss: 0.008848783560097218 | Validation Loss: 0.013308043591678143 | LR: 0.47829690000000014\n"
     ]
    },
    {
     "name": "stderr",
     "output_type": "stream",
     "text": [
      " 80%|████████  | 80/100 [01:17<00:17,  1.12it/s]"
     ]
    },
    {
     "name": "stdout",
     "output_type": "stream",
     "text": [
      "Epoch: 79 | Training Loss: 0.009921830147504807 | Validation Loss: 0.01330825500190258 | LR: 0.47829690000000014\n"
     ]
    },
    {
     "name": "stderr",
     "output_type": "stream",
     "text": [
      " 81%|████████  | 81/100 [01:18<00:16,  1.13it/s]"
     ]
    },
    {
     "name": "stdout",
     "output_type": "stream",
     "text": [
      "Epoch: 80 | Training Loss: 0.01353179570287466 | Validation Loss: 0.013307958841323853 | LR: 0.47829690000000014\n"
     ]
    },
    {
     "name": "stderr",
     "output_type": "stream",
     "text": [
      " 82%|████████▏ | 82/100 [01:19<00:15,  1.14it/s]"
     ]
    },
    {
     "name": "stdout",
     "output_type": "stream",
     "text": [
      "Epoch: 81 | Training Loss: 0.01027410477399826 | Validation Loss: 0.013307955116033554 | LR: 0.47829690000000014\n"
     ]
    },
    {
     "name": "stderr",
     "output_type": "stream",
     "text": [
      " 83%|████████▎ | 83/100 [01:20<00:14,  1.15it/s]"
     ]
    },
    {
     "name": "stdout",
     "output_type": "stream",
     "text": [
      "Epoch: 82 | Training Loss: 0.015043099410831928 | Validation Loss: 0.01330794021487236 | LR: 0.47829690000000014\n"
     ]
    },
    {
     "name": "stderr",
     "output_type": "stream",
     "text": [
      " 84%|████████▍ | 84/100 [01:21<00:13,  1.15it/s]"
     ]
    },
    {
     "name": "stdout",
     "output_type": "stream",
     "text": [
      "Epoch: 83 | Training Loss: 0.021401038393378258 | Validation Loss: 0.013307973742485046 | LR: 0.47829690000000014\n"
     ]
    },
    {
     "name": "stderr",
     "output_type": "stream",
     "text": [
      " 85%|████████▌ | 85/100 [01:22<00:14,  1.06it/s]"
     ]
    },
    {
     "name": "stdout",
     "output_type": "stream",
     "text": [
      "Epoch: 84 | Training Loss: 0.015435276553034782 | Validation Loss: 0.013307969085872173 | LR: 0.47829690000000014\n"
     ]
    },
    {
     "name": "stderr",
     "output_type": "stream",
     "text": [
      " 86%|████████▌ | 86/100 [01:23<00:13,  1.08it/s]"
     ]
    },
    {
     "name": "stdout",
     "output_type": "stream",
     "text": [
      "Epoch: 85 | Training Loss: 0.0075784288346767426 | Validation Loss: 0.013308852910995483 | LR: 0.47829690000000014\n"
     ]
    },
    {
     "name": "stderr",
     "output_type": "stream",
     "text": [
      " 87%|████████▋ | 87/100 [01:24<00:11,  1.11it/s]"
     ]
    },
    {
     "name": "stdout",
     "output_type": "stream",
     "text": [
      "Epoch: 86 | Training Loss: 0.012693437747657299 | Validation Loss: 0.013308079913258553 | LR: 0.47829690000000014\n"
     ]
    },
    {
     "name": "stderr",
     "output_type": "stream",
     "text": [
      " 88%|████████▊ | 88/100 [01:25<00:10,  1.11it/s]"
     ]
    },
    {
     "name": "stdout",
     "output_type": "stream",
     "text": [
      "Epoch: 87 | Training Loss: 0.00630522146821022 | Validation Loss: 0.01330787967890501 | LR: 0.47829690000000014\n"
     ]
    },
    {
     "name": "stderr",
     "output_type": "stream",
     "text": [
      " 89%|████████▉ | 89/100 [01:26<00:10,  1.08it/s]"
     ]
    },
    {
     "name": "stdout",
     "output_type": "stream",
     "text": [
      "Epoch: 88 | Training Loss: 0.010452931746840477 | Validation Loss: 0.013307795859873295 | LR: 0.47829690000000014\n"
     ]
    },
    {
     "name": "stderr",
     "output_type": "stream",
     "text": [
      " 90%|█████████ | 90/100 [01:27<00:10,  1.08s/it]"
     ]
    },
    {
     "name": "stdout",
     "output_type": "stream",
     "text": [
      "Epoch: 89 | Training Loss: 0.009203619323670864 | Validation Loss: 0.013308210298418999 | LR: 0.43046721000000016\n"
     ]
    },
    {
     "name": "stderr",
     "output_type": "stream",
     "text": [
      " 91%|█████████ | 91/100 [01:29<00:11,  1.23s/it]"
     ]
    },
    {
     "name": "stdout",
     "output_type": "stream",
     "text": [
      "Epoch: 90 | Training Loss: 0.012910762801766396 | Validation Loss: 0.013307925313711166 | LR: 0.43046721000000016\n"
     ]
    },
    {
     "name": "stderr",
     "output_type": "stream",
     "text": [
      " 92%|█████████▏| 92/100 [01:30<00:09,  1.21s/it]"
     ]
    },
    {
     "name": "stdout",
     "output_type": "stream",
     "text": [
      "Epoch: 91 | Training Loss: 0.013609605841338634 | Validation Loss: 0.013308092020452023 | LR: 0.43046721000000016\n"
     ]
    },
    {
     "name": "stderr",
     "output_type": "stream",
     "text": [
      " 93%|█████████▎| 93/100 [01:31<00:08,  1.14s/it]"
     ]
    },
    {
     "name": "stdout",
     "output_type": "stream",
     "text": [
      "Epoch: 92 | Training Loss: 0.005103683099150658 | Validation Loss: 0.01330842636525631 | LR: 0.43046721000000016\n"
     ]
    },
    {
     "name": "stderr",
     "output_type": "stream",
     "text": [
      " 94%|█████████▍| 94/100 [01:32<00:07,  1.25s/it]"
     ]
    },
    {
     "name": "stdout",
     "output_type": "stream",
     "text": [
      "Epoch: 93 | Training Loss: 0.018316954374313354 | Validation Loss: 0.013308144174516201 | LR: 0.43046721000000016\n"
     ]
    },
    {
     "name": "stderr",
     "output_type": "stream",
     "text": [
      " 95%|█████████▌| 95/100 [01:33<00:05,  1.15s/it]"
     ]
    },
    {
     "name": "stdout",
     "output_type": "stream",
     "text": [
      "Epoch: 94 | Training Loss: 0.005426554009318352 | Validation Loss: 0.013307852670550346 | LR: 0.43046721000000016\n"
     ]
    },
    {
     "name": "stderr",
     "output_type": "stream",
     "text": [
      " 96%|█████████▌| 96/100 [01:34<00:04,  1.10s/it]"
     ]
    },
    {
     "name": "stdout",
     "output_type": "stream",
     "text": [
      "Epoch: 95 | Training Loss: 0.013548784889280796 | Validation Loss: 0.013307896442711353 | LR: 0.43046721000000016\n"
     ]
    },
    {
     "name": "stderr",
     "output_type": "stream",
     "text": [
      " 97%|█████████▋| 97/100 [01:35<00:03,  1.04s/it]"
     ]
    },
    {
     "name": "stdout",
     "output_type": "stream",
     "text": [
      "Epoch: 96 | Training Loss: 0.010561477392911911 | Validation Loss: 0.013308010064065456 | LR: 0.43046721000000016\n"
     ]
    },
    {
     "name": "stderr",
     "output_type": "stream",
     "text": [
      " 98%|█████████▊| 98/100 [01:36<00:02,  1.04s/it]"
     ]
    },
    {
     "name": "stdout",
     "output_type": "stream",
     "text": [
      "Epoch: 97 | Training Loss: 0.01242764201015234 | Validation Loss: 0.013307922519743443 | LR: 0.43046721000000016\n"
     ]
    },
    {
     "name": "stderr",
     "output_type": "stream",
     "text": [
      " 99%|█████████▉| 99/100 [01:37<00:01,  1.09s/it]"
     ]
    },
    {
     "name": "stdout",
     "output_type": "stream",
     "text": [
      "Epoch: 98 | Training Loss: 0.023729192093014717 | Validation Loss: 0.013307834044098854 | LR: 0.43046721000000016\n"
     ]
    },
    {
     "name": "stderr",
     "output_type": "stream",
     "text": [
      "100%|██████████| 100/100 [01:39<00:00,  1.01it/s]"
     ]
    },
    {
     "name": "stdout",
     "output_type": "stream",
     "text": [
      "Epoch: 99 | Training Loss: 0.013570856302976608 | Validation Loss: 0.013308019377291203 | LR: 0.43046721000000016\n"
     ]
    },
    {
     "name": "stderr",
     "output_type": "stream",
     "text": [
      "\n"
     ]
    }
   ],
   "source": [
    "# %%\n",
    "from tqdm.auto import tqdm\n",
    "EPOCHS = 100\n",
    "integrator = euler_integrator\n",
    "optimizer = torch.optim.SGD(integrator.parameters(), lr=1, momentum=0.8)\n",
    "scheduler = torch.optim.lr_scheduler.ReduceLROnPlateau(optimizer, patience=10, factor=0.9)\n",
    "\n",
    "with torch.no_grad():\n",
    "        output_states = integrator(initial_state, control_inputs)\n",
    "        val_loss = torch.nn.functional.l1_loss(output_states, target_states)\n",
    "print(f\"Initialized | Validation Loss: {val_loss.item()} | LR: {optimizer.param_groups[0]['lr']}\")\n",
    "\n",
    "losses = list()\n",
    "lrs = list()\n",
    "\n",
    "for i in tqdm(range(EPOCHS)):\n",
    "    for initial, inputs, targets in dataloader:\n",
    "        optimizer.zero_grad()\n",
    "        output_states = integrator(initial, inputs)\n",
    "        loss = torch.nn.functional.l1_loss(output_states, targets)\n",
    "        loss.backward()\n",
    "        optimizer.step()\n",
    "    #for name, param in integrator.named_parameters():\n",
    "    #    if param.requires_grad:\n",
    "    #        print(name, param.data, param.grad)\n",
    "    if i%20 == 0 and False:\n",
    "        with torch.no_grad():\n",
    "            output_states = integrator(initial_state, control_inputs)\n",
    "            val_loss = torch.nn.functional.l1_loss(output_states, target_states)\n",
    "        fig, ax = plt.subplots(1, 1, figsize=(10,10))\n",
    "        LEN=20000\n",
    "        ax.plot(target_states[:LEN, 0].cpu().numpy(), target_states[:LEN, 1].cpu().numpy(), label=\"Target\")\n",
    "        ax.plot(output_states[:LEN, 0].detach().cpu().numpy(), output_states[:LEN, 1].detach().cpu().numpy(), label=\"Prediction\")\n",
    "        ax.set_aspect(1.0)\n",
    "        ax.legend()\n",
    "        plt.show()\n",
    "        print(f\"Epoch: {i} | Training Loss: {loss.item()} | Validation Loss: {val_loss.item()} | LR: {optimizer.param_groups[0]['lr']}\")\n",
    "    with torch.no_grad():\n",
    "        output_states = integrator(batched_initial_states,batched_control_inputs)\n",
    "        val_loss = torch.nn.functional.l1_loss(output_states, batched_target_states)\n",
    "        losses.append(val_loss.item())\n",
    "    print(f\"Epoch: {i} | Training Loss: {loss.item()} | Validation Loss: {val_loss.item()} | LR: {optimizer.param_groups[0]['lr']}\")\n",
    "    lrs.append(optimizer.param_groups[0]['lr'])\n",
    "    scheduler.step(val_loss)\n"
   ]
  },
  {
   "cell_type": "code",
   "execution_count": 27,
   "id": "e59c77d6-8a4d-4f37-9152-26008d8467b2",
   "metadata": {},
   "outputs": [
    {
     "data": {
      "image/png": "[encoded data removed]",
      "text/plain": [
       "<Figure size 640x480 with 2 Axes>"
      ]
     },
     "metadata": {},
     "output_type": "display_data"
    }
   ],
   "source": [
    "fig, ax = plt.subplots()\n",
    "ax.plot(losses, label='Training Loss')\n",
    "ax.set_ylabel(\"Training Loss\")\n",
    "ax.set_yscale('log')\n",
    "secax = ax.twinx()\n",
    "secax.set_ylabel(\"Learning Rate\")\n",
    "secax.plot(lrs, label=\"Learning Rates\", color='orange')\n",
    "#secax.set_yscale('log')\n",
    "ax.set_title(\"Training Losses\")\n",
    "fig.legend()\n",
    "plt.show()"
   ]
  },
  {
   "cell_type": "code",
   "execution_count": 28,
   "id": "72ca2e81-2ef3-434e-b39a-5a454c40756d",
   "metadata": {},
   "outputs": [],
   "source": [
    "# %%\n",
    "with torch.no_grad():\n",
    "    output_states = integrator(initial_state, control_inputs)\n",
    "    val_loss = torch.nn.functional.l1_loss(output_states, target_states)"
   ]
  },
  {
   "cell_type": "code",
   "execution_count": 29,
   "id": "f73b7123-725b-49d4-a258-0f3b7a261858",
   "metadata": {},
   "outputs": [
    {
     "data": {
      "image/png": "[encoded data removed]",
      "text/plain": [
       "<Figure size 1000x1000 with 1 Axes>"
      ]
     },
     "metadata": {},
     "output_type": "display_data"
    }
   ],
   "source": [
    "fig, ax = plt.subplots(1, 1, figsize=(10,10))\n",
    "LEN=20000\n",
    "ax.plot(target_states[:LEN, 0].cpu().numpy(), target_states[:LEN, 1].cpu().numpy(), label=\"Target\")\n",
    "ax.plot(output_states[:LEN, 0].detach().cpu().numpy(), output_states[:LEN, 1].detach().cpu().numpy(), label=\"Prediction\")\n",
    "ax.set_aspect(1.0)\n",
    "ax.legend()\n",
    "ax.set_title(\"Loss {:4f}\".format(val_loss.item()))\n",
    "plt.show()"
   ]
  },
  {
   "cell_type": "code",
   "execution_count": 30,
   "id": "fefe83f2-1742-4013-a56d-111cc17ccfed",
   "metadata": {},
   "outputs": [
    {
     "name": "stdout",
     "output_type": "stream",
     "text": [
      "{\n",
      "\t\"lf\" : 0.8839200139045715,\n",
      "\t\"lr\" : 1.5087599754333496,\n",
      "\t\"Iz\" : 1538.8533935546875,\n",
      "\t\"mass\" : 1225.8848876953125,\n",
      "\t\"Df\" : 3709.082275390625,\n",
      "\t\"Cf\" : 3.463547706604004,\n",
      "\t\"Bf\" : 16.50279426574707,\n",
      "\t\"Dr\" : 3709.082275390625,\n",
      "\t\"Cr\" : 2.0817453861236572,\n",
      "\t\"Br\" : 16.30957794189453,\n",
      "\t\"Cm\" : 0.9565907120704651,\n",
      "\t\"Cr0\" : 2.1386544704437256,\n",
      "\t\"Cr2\" : -0.010349993593990803,\n",
      "}\n"
     ]
    }
   ],
   "source": [
    "print(\"{\")\n",
    "for key in dynamics.state_dict().keys():\n",
    "    print(f\"\\t\\\"{key}\\\" : {dynamics.state_dict()[key]},\")\n",
    "print(\"}\")"
   ]
  },
  {
   "cell_type": "code",
   "execution_count": null,
   "id": "cd9c16d9-e2b5-4578-a3a0-3444e59c0b09",
   "metadata": {},
   "outputs": [],
   "source": []
  }
 ],
 "metadata": {
  "kernelspec": {
   "display_name": "base",
   "language": "python",
   "name": "python3"
  },
  "language_info": {
   "codemirror_mode": {
    "name": "ipython",
    "version": 3
   },
   "file_extension": ".py",
   "mimetype": "text/x-python",
   "name": "python",
   "nbconvert_exporter": "python",
   "pygments_lexer": "ipython3",
   "version": "3.11.5"
  }
 },
 "nbformat": 4,
 "nbformat_minor": 5
}
